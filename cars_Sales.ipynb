{
 "cells": [
  {
   "cell_type": "code",
   "execution_count": 39,
   "metadata": {},
   "outputs": [],
   "source": [
    "#importing libraries\n",
    "import pandas as pd\n",
    "import numpy as np\n",
    "import matplotlib.pyplot as plt\n",
    "import seaborn as sns\n",
    "sns.set()\n",
    "%matplotlib inline "
   ]
  },
  {
   "cell_type": "code",
   "execution_count": 40,
   "metadata": {},
   "outputs": [],
   "source": [
    "data=pd.read_csv('USA_cars_datasets.csv')   #loading the dataset"
   ]
  },
  {
   "cell_type": "code",
   "execution_count": 41,
   "metadata": {},
   "outputs": [
    {
     "data": {
      "text/html": [
       "<div>\n",
       "<style scoped>\n",
       "    .dataframe tbody tr th:only-of-type {\n",
       "        vertical-align: middle;\n",
       "    }\n",
       "\n",
       "    .dataframe tbody tr th {\n",
       "        vertical-align: top;\n",
       "    }\n",
       "\n",
       "    .dataframe thead th {\n",
       "        text-align: right;\n",
       "    }\n",
       "</style>\n",
       "<table border=\"1\" class=\"dataframe\">\n",
       "  <thead>\n",
       "    <tr style=\"text-align: right;\">\n",
       "      <th></th>\n",
       "      <th>Unnamed: 0</th>\n",
       "      <th>price</th>\n",
       "      <th>brand</th>\n",
       "      <th>model</th>\n",
       "      <th>year</th>\n",
       "      <th>title_status</th>\n",
       "      <th>mileage</th>\n",
       "      <th>color</th>\n",
       "      <th>vin</th>\n",
       "      <th>lot</th>\n",
       "      <th>state</th>\n",
       "      <th>country</th>\n",
       "      <th>condition</th>\n",
       "    </tr>\n",
       "  </thead>\n",
       "  <tbody>\n",
       "    <tr>\n",
       "      <th>0</th>\n",
       "      <td>0</td>\n",
       "      <td>6300</td>\n",
       "      <td>toyota</td>\n",
       "      <td>cruiser</td>\n",
       "      <td>2008</td>\n",
       "      <td>clean vehicle</td>\n",
       "      <td>274117.0</td>\n",
       "      <td>black</td>\n",
       "      <td>jtezu11f88k007763</td>\n",
       "      <td>159348797</td>\n",
       "      <td>new jersey</td>\n",
       "      <td>usa</td>\n",
       "      <td>10 days left</td>\n",
       "    </tr>\n",
       "    <tr>\n",
       "      <th>1</th>\n",
       "      <td>1</td>\n",
       "      <td>2899</td>\n",
       "      <td>ford</td>\n",
       "      <td>se</td>\n",
       "      <td>2011</td>\n",
       "      <td>clean vehicle</td>\n",
       "      <td>190552.0</td>\n",
       "      <td>silver</td>\n",
       "      <td>2fmdk3gc4bbb02217</td>\n",
       "      <td>166951262</td>\n",
       "      <td>tennessee</td>\n",
       "      <td>usa</td>\n",
       "      <td>6 days left</td>\n",
       "    </tr>\n",
       "    <tr>\n",
       "      <th>2</th>\n",
       "      <td>2</td>\n",
       "      <td>5350</td>\n",
       "      <td>dodge</td>\n",
       "      <td>mpv</td>\n",
       "      <td>2018</td>\n",
       "      <td>clean vehicle</td>\n",
       "      <td>39590.0</td>\n",
       "      <td>silver</td>\n",
       "      <td>3c4pdcgg5jt346413</td>\n",
       "      <td>167655728</td>\n",
       "      <td>georgia</td>\n",
       "      <td>usa</td>\n",
       "      <td>2 days left</td>\n",
       "    </tr>\n",
       "    <tr>\n",
       "      <th>3</th>\n",
       "      <td>3</td>\n",
       "      <td>25000</td>\n",
       "      <td>ford</td>\n",
       "      <td>door</td>\n",
       "      <td>2014</td>\n",
       "      <td>clean vehicle</td>\n",
       "      <td>64146.0</td>\n",
       "      <td>blue</td>\n",
       "      <td>1ftfw1et4efc23745</td>\n",
       "      <td>167753855</td>\n",
       "      <td>virginia</td>\n",
       "      <td>usa</td>\n",
       "      <td>22 hours left</td>\n",
       "    </tr>\n",
       "    <tr>\n",
       "      <th>4</th>\n",
       "      <td>4</td>\n",
       "      <td>27700</td>\n",
       "      <td>chevrolet</td>\n",
       "      <td>1500</td>\n",
       "      <td>2018</td>\n",
       "      <td>clean vehicle</td>\n",
       "      <td>6654.0</td>\n",
       "      <td>red</td>\n",
       "      <td>3gcpcrec2jg473991</td>\n",
       "      <td>167763266</td>\n",
       "      <td>florida</td>\n",
       "      <td>usa</td>\n",
       "      <td>22 hours left</td>\n",
       "    </tr>\n",
       "  </tbody>\n",
       "</table>\n",
       "</div>"
      ],
      "text/plain": [
       "   Unnamed: 0  price      brand    model  year   title_status   mileage  \\\n",
       "0           0   6300     toyota  cruiser  2008  clean vehicle  274117.0   \n",
       "1           1   2899       ford       se  2011  clean vehicle  190552.0   \n",
       "2           2   5350      dodge      mpv  2018  clean vehicle   39590.0   \n",
       "3           3  25000       ford     door  2014  clean vehicle   64146.0   \n",
       "4           4  27700  chevrolet     1500  2018  clean vehicle    6654.0   \n",
       "\n",
       "    color                  vin        lot       state country      condition  \n",
       "0   black    jtezu11f88k007763  159348797  new jersey     usa   10 days left  \n",
       "1  silver    2fmdk3gc4bbb02217  166951262   tennessee     usa    6 days left  \n",
       "2  silver    3c4pdcgg5jt346413  167655728     georgia     usa    2 days left  \n",
       "3    blue    1ftfw1et4efc23745  167753855    virginia     usa  22 hours left  \n",
       "4     red    3gcpcrec2jg473991  167763266     florida     usa  22 hours left  "
      ]
     },
     "execution_count": 41,
     "metadata": {},
     "output_type": "execute_result"
    }
   ],
   "source": [
    "data.head()   #displaying the first 5 rows "
   ]
  },
  {
   "cell_type": "code",
   "execution_count": 42,
   "metadata": {},
   "outputs": [
    {
     "data": {
      "text/plain": [
       "\" I found that the first column is meaningless so, I'm removing it \""
      ]
     },
     "execution_count": 42,
     "metadata": {},
     "output_type": "execute_result"
    }
   ],
   "source": [
    "\"\"\" I found that the first column is meaningless so, I'm removing it \"\"\""
   ]
  },
  {
   "cell_type": "code",
   "execution_count": 43,
   "metadata": {},
   "outputs": [],
   "source": [
    "data=data.iloc[:,1:]"
   ]
  },
  {
   "cell_type": "code",
   "execution_count": 44,
   "metadata": {},
   "outputs": [
    {
     "data": {
      "text/html": [
       "<div>\n",
       "<style scoped>\n",
       "    .dataframe tbody tr th:only-of-type {\n",
       "        vertical-align: middle;\n",
       "    }\n",
       "\n",
       "    .dataframe tbody tr th {\n",
       "        vertical-align: top;\n",
       "    }\n",
       "\n",
       "    .dataframe thead th {\n",
       "        text-align: right;\n",
       "    }\n",
       "</style>\n",
       "<table border=\"1\" class=\"dataframe\">\n",
       "  <thead>\n",
       "    <tr style=\"text-align: right;\">\n",
       "      <th></th>\n",
       "      <th>price</th>\n",
       "      <th>brand</th>\n",
       "      <th>model</th>\n",
       "      <th>year</th>\n",
       "      <th>title_status</th>\n",
       "      <th>mileage</th>\n",
       "      <th>color</th>\n",
       "      <th>vin</th>\n",
       "      <th>lot</th>\n",
       "      <th>state</th>\n",
       "      <th>country</th>\n",
       "      <th>condition</th>\n",
       "    </tr>\n",
       "  </thead>\n",
       "  <tbody>\n",
       "    <tr>\n",
       "      <th>0</th>\n",
       "      <td>6300</td>\n",
       "      <td>toyota</td>\n",
       "      <td>cruiser</td>\n",
       "      <td>2008</td>\n",
       "      <td>clean vehicle</td>\n",
       "      <td>274117.0</td>\n",
       "      <td>black</td>\n",
       "      <td>jtezu11f88k007763</td>\n",
       "      <td>159348797</td>\n",
       "      <td>new jersey</td>\n",
       "      <td>usa</td>\n",
       "      <td>10 days left</td>\n",
       "    </tr>\n",
       "    <tr>\n",
       "      <th>1</th>\n",
       "      <td>2899</td>\n",
       "      <td>ford</td>\n",
       "      <td>se</td>\n",
       "      <td>2011</td>\n",
       "      <td>clean vehicle</td>\n",
       "      <td>190552.0</td>\n",
       "      <td>silver</td>\n",
       "      <td>2fmdk3gc4bbb02217</td>\n",
       "      <td>166951262</td>\n",
       "      <td>tennessee</td>\n",
       "      <td>usa</td>\n",
       "      <td>6 days left</td>\n",
       "    </tr>\n",
       "    <tr>\n",
       "      <th>2</th>\n",
       "      <td>5350</td>\n",
       "      <td>dodge</td>\n",
       "      <td>mpv</td>\n",
       "      <td>2018</td>\n",
       "      <td>clean vehicle</td>\n",
       "      <td>39590.0</td>\n",
       "      <td>silver</td>\n",
       "      <td>3c4pdcgg5jt346413</td>\n",
       "      <td>167655728</td>\n",
       "      <td>georgia</td>\n",
       "      <td>usa</td>\n",
       "      <td>2 days left</td>\n",
       "    </tr>\n",
       "    <tr>\n",
       "      <th>3</th>\n",
       "      <td>25000</td>\n",
       "      <td>ford</td>\n",
       "      <td>door</td>\n",
       "      <td>2014</td>\n",
       "      <td>clean vehicle</td>\n",
       "      <td>64146.0</td>\n",
       "      <td>blue</td>\n",
       "      <td>1ftfw1et4efc23745</td>\n",
       "      <td>167753855</td>\n",
       "      <td>virginia</td>\n",
       "      <td>usa</td>\n",
       "      <td>22 hours left</td>\n",
       "    </tr>\n",
       "    <tr>\n",
       "      <th>4</th>\n",
       "      <td>27700</td>\n",
       "      <td>chevrolet</td>\n",
       "      <td>1500</td>\n",
       "      <td>2018</td>\n",
       "      <td>clean vehicle</td>\n",
       "      <td>6654.0</td>\n",
       "      <td>red</td>\n",
       "      <td>3gcpcrec2jg473991</td>\n",
       "      <td>167763266</td>\n",
       "      <td>florida</td>\n",
       "      <td>usa</td>\n",
       "      <td>22 hours left</td>\n",
       "    </tr>\n",
       "  </tbody>\n",
       "</table>\n",
       "</div>"
      ],
      "text/plain": [
       "   price      brand    model  year   title_status   mileage   color  \\\n",
       "0   6300     toyota  cruiser  2008  clean vehicle  274117.0   black   \n",
       "1   2899       ford       se  2011  clean vehicle  190552.0  silver   \n",
       "2   5350      dodge      mpv  2018  clean vehicle   39590.0  silver   \n",
       "3  25000       ford     door  2014  clean vehicle   64146.0    blue   \n",
       "4  27700  chevrolet     1500  2018  clean vehicle    6654.0     red   \n",
       "\n",
       "                   vin        lot       state country      condition  \n",
       "0    jtezu11f88k007763  159348797  new jersey     usa   10 days left  \n",
       "1    2fmdk3gc4bbb02217  166951262   tennessee     usa    6 days left  \n",
       "2    3c4pdcgg5jt346413  167655728     georgia     usa    2 days left  \n",
       "3    1ftfw1et4efc23745  167753855    virginia     usa  22 hours left  \n",
       "4    3gcpcrec2jg473991  167763266     florida     usa  22 hours left  "
      ]
     },
     "execution_count": 44,
     "metadata": {},
     "output_type": "execute_result"
    }
   ],
   "source": [
    "data.head() #the data after removing the first column "
   ]
  },
  {
   "cell_type": "code",
   "execution_count": 45,
   "metadata": {},
   "outputs": [
    {
     "data": {
      "text/plain": [
       "167650636    2\n",
       "167781794    2\n",
       "167650632    2\n",
       "167650663    2\n",
       "167495679    1\n",
       "167802232    1\n",
       "167802230    1\n",
       "167357813    1\n",
       "167744884    1\n",
       "167804275    1\n",
       "167417202    1\n",
       "167796081    1\n",
       "167650668    1\n",
       "167652717    1\n",
       "167802234    1\n",
       "167779691    1\n",
       "167779689    1\n",
       "167650664    1\n",
       "167779687    1\n",
       "167779685    1\n",
       "167746107    1\n",
       "167615740    1\n",
       "167640427    1\n",
       "167552380    1\n",
       "167765400    1\n",
       "167742945    1\n",
       "167554453    1\n",
       "167802377    1\n",
       "167570518    1\n",
       "167615526    1\n",
       "            ..\n",
       "167783115    1\n",
       "167494347    1\n",
       "167783937    1\n",
       "167725768    1\n",
       "167457186    1\n",
       "167787206    1\n",
       "167770820    1\n",
       "167656130    1\n",
       "167656128    1\n",
       "167627320    1\n",
       "167766742    1\n",
       "167770840    1\n",
       "167641488    1\n",
       "167129224    1\n",
       "167541492    1\n",
       "167732769    1\n",
       "167760621    1\n",
       "167802335    1\n",
       "167796069    1\n",
       "167722304    1\n",
       "167553768    1\n",
       "167766758    1\n",
       "167553762    1\n",
       "167722715    1\n",
       "167738659    1\n",
       "167799518    1\n",
       "167783132    1\n",
       "167617243    1\n",
       "167715808    1\n",
       "167802337    1\n",
       "Name: lot, Length: 2495, dtype: int64"
      ]
     },
     "execution_count": 45,
     "metadata": {},
     "output_type": "execute_result"
    }
   ],
   "source": [
    "data.lot.value_counts()  #counting the values of the lot column "
   ]
  },
  {
   "cell_type": "code",
   "execution_count": 28,
   "metadata": {},
   "outputs": [
    {
     "data": {
      "text/plain": [
       "  3gcrkse37ag234620    2\n",
       "  1g1al58f787159241    2\n",
       "  1gnevhkw8jj148388    2\n",
       "  1gndt13s632267445    2\n",
       "  1ftyr1ym9kka56662    1\n",
       "  3gcukrec4jg204915    1\n",
       "  1fm5k8gt2kgb41298    1\n",
       "  1fmcu9gd2jua74282    1\n",
       "  knmat2mv8hp540065    1\n",
       "  3n1cn7ap0kl845989    1\n",
       "  1ftew1ep1jkd75109    1\n",
       "  1ftfx1ct4efc92709    1\n",
       "  4jgda5hb2fa567147    1\n",
       "  2fmtk4j99fbb84272    1\n",
       "  3c4pdcgg5kt717085    1\n",
       "  3fa6p0g74gr199577    1\n",
       "  2fmtk4k86fbb36847    1\n",
       "  1fmcu0gd3kub29710    1\n",
       "  2fmpk4k96kbc37150    1\n",
       "  2g1fk1ejxa9163850    1\n",
       "  1ftbf2b66dea35574    1\n",
       "  1ft7w2b62heb39135    1\n",
       "  2c3cdzag9kh642088    1\n",
       "  2c3cdybt5eh217218    1\n",
       "  2fmpk3k94kbb62331    1\n",
       "  3gnal3ek3ds630172    1\n",
       "  3c4pddgg3kt720539    1\n",
       "  2c4rdgeg8jr219449    1\n",
       "  3fadp4bj7cm128642    1\n",
       "  2c3cdxej6ch170654    1\n",
       "                      ..\n",
       "  1ftfw1eg0hkd21010    1\n",
       "  1fmcu9gd2kub09873    1\n",
       "  1gnskbkc9kr143993    1\n",
       "  1ft7x2a68deb25801    1\n",
       "  2gnflfek5e6237636    1\n",
       "  3fadp4ej7jm111509    1\n",
       "  3gcpcpeh2eg231868    1\n",
       "  maj3s2ke8kc268152    1\n",
       "  2c3cdxhg3kh630447    1\n",
       "  knmat2mv5jp602138    1\n",
       "  3n1cn7ap6jl831688    1\n",
       "  nm0ls7e79h1312701    1\n",
       "  1ftew1e50jfa49583    1\n",
       "  1fm5k8d81hgd05701    1\n",
       "  wbaam3346yfp77118    1\n",
       "  2c4rdgcg1kr565329    1\n",
       "  2c4rdgeg9hr852858    1\n",
       "  1ftfw1e44kfa45372    1\n",
       "  1ftfw1e43kfb70539    1\n",
       "  3n1ab7apxjl642008    1\n",
       "  3fadp4bj5jm122531    1\n",
       "  1g1zd5stxjf140841    1\n",
       "  1n4al3ap8hc255116    1\n",
       "  2c3cdyag0eh274494    1\n",
       "  1fm5k7f85kgb16175    1\n",
       "  1n6ad0ev9kn786557    1\n",
       "  1ft8w3dt1hee12434    1\n",
       "  1ftfw1eg9gke06958    1\n",
       "  1c3cccab7fn613884    1\n",
       "  5ymkt6c37h0x20696    1\n",
       "Name: vin, Length: 2495, dtype: int64"
      ]
     },
     "execution_count": 28,
     "metadata": {},
     "output_type": "execute_result"
    }
   ],
   "source": [
    "data.vin.value_counts()  #counting the values of the vin column "
   ]
  },
  {
   "cell_type": "code",
   "execution_count": 29,
   "metadata": {},
   "outputs": [
    {
     "data": {
      "text/plain": [
       "\" for me vin , lot columns are useless , so I'm removing them \""
      ]
     },
     "execution_count": 29,
     "metadata": {},
     "output_type": "execute_result"
    }
   ],
   "source": [
    "\"\"\" for me vin , lot columns are useless , so I'm removing them \"\"\""
   ]
  },
  {
   "cell_type": "code",
   "execution_count": 46,
   "metadata": {},
   "outputs": [],
   "source": [
    "columns_to_drop=['vin','lot']\n",
    "data.drop(columns_to_drop,axis=1,inplace=True)  #dropping vin,lot columns"
   ]
  },
  {
   "cell_type": "code",
   "execution_count": 47,
   "metadata": {},
   "outputs": [
    {
     "data": {
      "text/html": [
       "<div>\n",
       "<style scoped>\n",
       "    .dataframe tbody tr th:only-of-type {\n",
       "        vertical-align: middle;\n",
       "    }\n",
       "\n",
       "    .dataframe tbody tr th {\n",
       "        vertical-align: top;\n",
       "    }\n",
       "\n",
       "    .dataframe thead th {\n",
       "        text-align: right;\n",
       "    }\n",
       "</style>\n",
       "<table border=\"1\" class=\"dataframe\">\n",
       "  <thead>\n",
       "    <tr style=\"text-align: right;\">\n",
       "      <th></th>\n",
       "      <th>price</th>\n",
       "      <th>brand</th>\n",
       "      <th>model</th>\n",
       "      <th>year</th>\n",
       "      <th>title_status</th>\n",
       "      <th>mileage</th>\n",
       "      <th>color</th>\n",
       "      <th>state</th>\n",
       "      <th>country</th>\n",
       "      <th>condition</th>\n",
       "    </tr>\n",
       "  </thead>\n",
       "  <tbody>\n",
       "    <tr>\n",
       "      <th>0</th>\n",
       "      <td>6300</td>\n",
       "      <td>toyota</td>\n",
       "      <td>cruiser</td>\n",
       "      <td>2008</td>\n",
       "      <td>clean vehicle</td>\n",
       "      <td>274117.0</td>\n",
       "      <td>black</td>\n",
       "      <td>new jersey</td>\n",
       "      <td>usa</td>\n",
       "      <td>10 days left</td>\n",
       "    </tr>\n",
       "    <tr>\n",
       "      <th>1</th>\n",
       "      <td>2899</td>\n",
       "      <td>ford</td>\n",
       "      <td>se</td>\n",
       "      <td>2011</td>\n",
       "      <td>clean vehicle</td>\n",
       "      <td>190552.0</td>\n",
       "      <td>silver</td>\n",
       "      <td>tennessee</td>\n",
       "      <td>usa</td>\n",
       "      <td>6 days left</td>\n",
       "    </tr>\n",
       "    <tr>\n",
       "      <th>2</th>\n",
       "      <td>5350</td>\n",
       "      <td>dodge</td>\n",
       "      <td>mpv</td>\n",
       "      <td>2018</td>\n",
       "      <td>clean vehicle</td>\n",
       "      <td>39590.0</td>\n",
       "      <td>silver</td>\n",
       "      <td>georgia</td>\n",
       "      <td>usa</td>\n",
       "      <td>2 days left</td>\n",
       "    </tr>\n",
       "    <tr>\n",
       "      <th>3</th>\n",
       "      <td>25000</td>\n",
       "      <td>ford</td>\n",
       "      <td>door</td>\n",
       "      <td>2014</td>\n",
       "      <td>clean vehicle</td>\n",
       "      <td>64146.0</td>\n",
       "      <td>blue</td>\n",
       "      <td>virginia</td>\n",
       "      <td>usa</td>\n",
       "      <td>22 hours left</td>\n",
       "    </tr>\n",
       "    <tr>\n",
       "      <th>4</th>\n",
       "      <td>27700</td>\n",
       "      <td>chevrolet</td>\n",
       "      <td>1500</td>\n",
       "      <td>2018</td>\n",
       "      <td>clean vehicle</td>\n",
       "      <td>6654.0</td>\n",
       "      <td>red</td>\n",
       "      <td>florida</td>\n",
       "      <td>usa</td>\n",
       "      <td>22 hours left</td>\n",
       "    </tr>\n",
       "  </tbody>\n",
       "</table>\n",
       "</div>"
      ],
      "text/plain": [
       "   price      brand    model  year   title_status   mileage   color  \\\n",
       "0   6300     toyota  cruiser  2008  clean vehicle  274117.0   black   \n",
       "1   2899       ford       se  2011  clean vehicle  190552.0  silver   \n",
       "2   5350      dodge      mpv  2018  clean vehicle   39590.0  silver   \n",
       "3  25000       ford     door  2014  clean vehicle   64146.0    blue   \n",
       "4  27700  chevrolet     1500  2018  clean vehicle    6654.0     red   \n",
       "\n",
       "        state country      condition  \n",
       "0  new jersey     usa   10 days left  \n",
       "1   tennessee     usa    6 days left  \n",
       "2     georgia     usa    2 days left  \n",
       "3    virginia     usa  22 hours left  \n",
       "4     florida     usa  22 hours left  "
      ]
     },
     "execution_count": 47,
     "metadata": {},
     "output_type": "execute_result"
    }
   ],
   "source": [
    "data.head()"
   ]
  },
  {
   "cell_type": "code",
   "execution_count": 48,
   "metadata": {},
   "outputs": [
    {
     "data": {
      "text/plain": [
       " usa       2492\n",
       " canada       7\n",
       "Name: country, dtype: int64"
      ]
     },
     "execution_count": 48,
     "metadata": {},
     "output_type": "execute_result"
    }
   ],
   "source": [
    "data.country.value_counts()"
   ]
  },
  {
   "cell_type": "code",
   "execution_count": null,
   "metadata": {},
   "outputs": [],
   "source": [
    "\"\"\" I see that there are some cars in Canada , so I'm choosing only cars from USA \"\"\""
   ]
  },
  {
   "cell_type": "code",
   "execution_count": 49,
   "metadata": {},
   "outputs": [],
   "source": [
    "data=data[data['country']==' usa']  #choosing only cars in usa "
   ]
  },
  {
   "cell_type": "code",
   "execution_count": 50,
   "metadata": {},
   "outputs": [
    {
     "data": {
      "text/html": [
       "<div>\n",
       "<style scoped>\n",
       "    .dataframe tbody tr th:only-of-type {\n",
       "        vertical-align: middle;\n",
       "    }\n",
       "\n",
       "    .dataframe tbody tr th {\n",
       "        vertical-align: top;\n",
       "    }\n",
       "\n",
       "    .dataframe thead th {\n",
       "        text-align: right;\n",
       "    }\n",
       "</style>\n",
       "<table border=\"1\" class=\"dataframe\">\n",
       "  <thead>\n",
       "    <tr style=\"text-align: right;\">\n",
       "      <th></th>\n",
       "      <th>price</th>\n",
       "      <th>brand</th>\n",
       "      <th>model</th>\n",
       "      <th>year</th>\n",
       "      <th>title_status</th>\n",
       "      <th>mileage</th>\n",
       "      <th>color</th>\n",
       "      <th>state</th>\n",
       "      <th>country</th>\n",
       "      <th>condition</th>\n",
       "    </tr>\n",
       "  </thead>\n",
       "  <tbody>\n",
       "    <tr>\n",
       "      <th>0</th>\n",
       "      <td>6300</td>\n",
       "      <td>toyota</td>\n",
       "      <td>cruiser</td>\n",
       "      <td>2008</td>\n",
       "      <td>clean vehicle</td>\n",
       "      <td>274117.0</td>\n",
       "      <td>black</td>\n",
       "      <td>new jersey</td>\n",
       "      <td>usa</td>\n",
       "      <td>10 days left</td>\n",
       "    </tr>\n",
       "    <tr>\n",
       "      <th>1</th>\n",
       "      <td>2899</td>\n",
       "      <td>ford</td>\n",
       "      <td>se</td>\n",
       "      <td>2011</td>\n",
       "      <td>clean vehicle</td>\n",
       "      <td>190552.0</td>\n",
       "      <td>silver</td>\n",
       "      <td>tennessee</td>\n",
       "      <td>usa</td>\n",
       "      <td>6 days left</td>\n",
       "    </tr>\n",
       "    <tr>\n",
       "      <th>2</th>\n",
       "      <td>5350</td>\n",
       "      <td>dodge</td>\n",
       "      <td>mpv</td>\n",
       "      <td>2018</td>\n",
       "      <td>clean vehicle</td>\n",
       "      <td>39590.0</td>\n",
       "      <td>silver</td>\n",
       "      <td>georgia</td>\n",
       "      <td>usa</td>\n",
       "      <td>2 days left</td>\n",
       "    </tr>\n",
       "    <tr>\n",
       "      <th>3</th>\n",
       "      <td>25000</td>\n",
       "      <td>ford</td>\n",
       "      <td>door</td>\n",
       "      <td>2014</td>\n",
       "      <td>clean vehicle</td>\n",
       "      <td>64146.0</td>\n",
       "      <td>blue</td>\n",
       "      <td>virginia</td>\n",
       "      <td>usa</td>\n",
       "      <td>22 hours left</td>\n",
       "    </tr>\n",
       "    <tr>\n",
       "      <th>4</th>\n",
       "      <td>27700</td>\n",
       "      <td>chevrolet</td>\n",
       "      <td>1500</td>\n",
       "      <td>2018</td>\n",
       "      <td>clean vehicle</td>\n",
       "      <td>6654.0</td>\n",
       "      <td>red</td>\n",
       "      <td>florida</td>\n",
       "      <td>usa</td>\n",
       "      <td>22 hours left</td>\n",
       "    </tr>\n",
       "  </tbody>\n",
       "</table>\n",
       "</div>"
      ],
      "text/plain": [
       "   price      brand    model  year   title_status   mileage   color  \\\n",
       "0   6300     toyota  cruiser  2008  clean vehicle  274117.0   black   \n",
       "1   2899       ford       se  2011  clean vehicle  190552.0  silver   \n",
       "2   5350      dodge      mpv  2018  clean vehicle   39590.0  silver   \n",
       "3  25000       ford     door  2014  clean vehicle   64146.0    blue   \n",
       "4  27700  chevrolet     1500  2018  clean vehicle    6654.0     red   \n",
       "\n",
       "        state country      condition  \n",
       "0  new jersey     usa   10 days left  \n",
       "1   tennessee     usa    6 days left  \n",
       "2     georgia     usa    2 days left  \n",
       "3    virginia     usa  22 hours left  \n",
       "4     florida     usa  22 hours left  "
      ]
     },
     "execution_count": 50,
     "metadata": {},
     "output_type": "execute_result"
    }
   ],
   "source": [
    "data.head()"
   ]
  },
  {
   "cell_type": "code",
   "execution_count": 57,
   "metadata": {},
   "outputs": [
    {
     "data": {
      "text/plain": [
       "\" in the country column there is a space before usa , so i'm removing it \""
      ]
     },
     "execution_count": 57,
     "metadata": {},
     "output_type": "execute_result"
    }
   ],
   "source": [
    "\"\"\" in the country column there is a space before usa , so i'm removing it \"\"\""
   ]
  },
  {
   "cell_type": "code",
   "execution_count": 54,
   "metadata": {},
   "outputs": [],
   "source": [
    "data['country']=data['country'].str[1:]"
   ]
  },
  {
   "cell_type": "code",
   "execution_count": 56,
   "metadata": {},
   "outputs": [
    {
     "data": {
      "text/html": [
       "<div>\n",
       "<style scoped>\n",
       "    .dataframe tbody tr th:only-of-type {\n",
       "        vertical-align: middle;\n",
       "    }\n",
       "\n",
       "    .dataframe tbody tr th {\n",
       "        vertical-align: top;\n",
       "    }\n",
       "\n",
       "    .dataframe thead th {\n",
       "        text-align: right;\n",
       "    }\n",
       "</style>\n",
       "<table border=\"1\" class=\"dataframe\">\n",
       "  <thead>\n",
       "    <tr style=\"text-align: right;\">\n",
       "      <th></th>\n",
       "      <th>price</th>\n",
       "      <th>brand</th>\n",
       "      <th>model</th>\n",
       "      <th>year</th>\n",
       "      <th>title_status</th>\n",
       "      <th>mileage</th>\n",
       "      <th>color</th>\n",
       "      <th>state</th>\n",
       "      <th>country</th>\n",
       "      <th>condition</th>\n",
       "    </tr>\n",
       "  </thead>\n",
       "  <tbody>\n",
       "    <tr>\n",
       "      <th>0</th>\n",
       "      <td>6300</td>\n",
       "      <td>toyota</td>\n",
       "      <td>cruiser</td>\n",
       "      <td>2008</td>\n",
       "      <td>clean vehicle</td>\n",
       "      <td>274117.0</td>\n",
       "      <td>black</td>\n",
       "      <td>new jersey</td>\n",
       "      <td>usa</td>\n",
       "      <td>10 days left</td>\n",
       "    </tr>\n",
       "    <tr>\n",
       "      <th>1</th>\n",
       "      <td>2899</td>\n",
       "      <td>ford</td>\n",
       "      <td>se</td>\n",
       "      <td>2011</td>\n",
       "      <td>clean vehicle</td>\n",
       "      <td>190552.0</td>\n",
       "      <td>silver</td>\n",
       "      <td>tennessee</td>\n",
       "      <td>usa</td>\n",
       "      <td>6 days left</td>\n",
       "    </tr>\n",
       "    <tr>\n",
       "      <th>2</th>\n",
       "      <td>5350</td>\n",
       "      <td>dodge</td>\n",
       "      <td>mpv</td>\n",
       "      <td>2018</td>\n",
       "      <td>clean vehicle</td>\n",
       "      <td>39590.0</td>\n",
       "      <td>silver</td>\n",
       "      <td>georgia</td>\n",
       "      <td>usa</td>\n",
       "      <td>2 days left</td>\n",
       "    </tr>\n",
       "    <tr>\n",
       "      <th>3</th>\n",
       "      <td>25000</td>\n",
       "      <td>ford</td>\n",
       "      <td>door</td>\n",
       "      <td>2014</td>\n",
       "      <td>clean vehicle</td>\n",
       "      <td>64146.0</td>\n",
       "      <td>blue</td>\n",
       "      <td>virginia</td>\n",
       "      <td>usa</td>\n",
       "      <td>22 hours left</td>\n",
       "    </tr>\n",
       "    <tr>\n",
       "      <th>4</th>\n",
       "      <td>27700</td>\n",
       "      <td>chevrolet</td>\n",
       "      <td>1500</td>\n",
       "      <td>2018</td>\n",
       "      <td>clean vehicle</td>\n",
       "      <td>6654.0</td>\n",
       "      <td>red</td>\n",
       "      <td>florida</td>\n",
       "      <td>usa</td>\n",
       "      <td>22 hours left</td>\n",
       "    </tr>\n",
       "  </tbody>\n",
       "</table>\n",
       "</div>"
      ],
      "text/plain": [
       "   price      brand    model  year   title_status   mileage   color  \\\n",
       "0   6300     toyota  cruiser  2008  clean vehicle  274117.0   black   \n",
       "1   2899       ford       se  2011  clean vehicle  190552.0  silver   \n",
       "2   5350      dodge      mpv  2018  clean vehicle   39590.0  silver   \n",
       "3  25000       ford     door  2014  clean vehicle   64146.0    blue   \n",
       "4  27700  chevrolet     1500  2018  clean vehicle    6654.0     red   \n",
       "\n",
       "        state country      condition  \n",
       "0  new jersey     usa   10 days left  \n",
       "1   tennessee     usa    6 days left  \n",
       "2     georgia     usa    2 days left  \n",
       "3    virginia     usa  22 hours left  \n",
       "4     florida     usa  22 hours left  "
      ]
     },
     "execution_count": 56,
     "metadata": {},
     "output_type": "execute_result"
    }
   ],
   "source": [
    "data.head()"
   ]
  },
  {
   "cell_type": "code",
   "execution_count": 59,
   "metadata": {},
   "outputs": [
    {
     "data": {
      "text/plain": [
       "usa    2492\n",
       "Name: country, dtype: int64"
      ]
     },
     "execution_count": 59,
     "metadata": {},
     "output_type": "execute_result"
    }
   ],
   "source": [
    "data.country.value_counts()"
   ]
  },
  {
   "cell_type": "code",
   "execution_count": 60,
   "metadata": {},
   "outputs": [
    {
     "data": {
      "text/plain": [
       "2 days left        832\n",
       "21 hours left      492\n",
       "3 days left        137\n",
       "14 hours left      108\n",
       "1 days left         91\n",
       "8 days left         82\n",
       "17 hours left       76\n",
       "20 hours left       67\n",
       "9 days left         58\n",
       "22 hours left       57\n",
       "6 days left         52\n",
       "18 hours left       48\n",
       "19 hours left       45\n",
       "7 days left         43\n",
       "11 days left        42\n",
       "16 hours left       36\n",
       "2 hours left        26\n",
       "Listing Expired     20\n",
       "29 minutes          18\n",
       "10 days left        16\n",
       "23 hours left       16\n",
       "5 hours left        16\n",
       "4 days left         16\n",
       "1 minutes           15\n",
       "6 hours left        12\n",
       "24 hours left        9\n",
       "15 hours left        8\n",
       "12 days left         8\n",
       "7 hours left         7\n",
       "34 minutes           7\n",
       "5 days left          6\n",
       "15 days left         4\n",
       "1 hours left         3\n",
       "9 minutes            3\n",
       "47 minutes           2\n",
       "48 minutes           2\n",
       "3 hours left         2\n",
       "32 minutes           1\n",
       "28 minutes           1\n",
       "30 minutes           1\n",
       "4 hours left         1\n",
       "12 hours left        1\n",
       "27 minutes           1\n",
       "16 minutes           1\n",
       "13 days left         1\n",
       "53 minutes           1\n",
       "36 minutes           1\n",
       "Name: condition, dtype: int64"
      ]
     },
     "execution_count": 60,
     "metadata": {},
     "output_type": "execute_result"
    }
   ],
   "source": [
    "data.condition.value_counts() #displaying the values of the condition column"
   ]
  },
  {
   "cell_type": "code",
   "execution_count": 61,
   "metadata": {},
   "outputs": [
    {
     "data": {
      "text/plain": [
       "\" the condition column is displaying the period of the sale ad time of the car , it won't help our model much, so I'm removing it \""
      ]
     },
     "execution_count": 61,
     "metadata": {},
     "output_type": "execute_result"
    }
   ],
   "source": [
    "\"\"\" the condition column is displaying the period of the sale ad time of the car , it won't help our model much, so I'm removing it \"\"\""
   ]
  },
  {
   "cell_type": "code",
   "execution_count": 64,
   "metadata": {},
   "outputs": [],
   "source": [
    "data=data.drop('condition',axis=1) #removing the condition column"
   ]
  },
  {
   "cell_type": "code",
   "execution_count": 65,
   "metadata": {},
   "outputs": [
    {
     "data": {
      "text/html": [
       "<div>\n",
       "<style scoped>\n",
       "    .dataframe tbody tr th:only-of-type {\n",
       "        vertical-align: middle;\n",
       "    }\n",
       "\n",
       "    .dataframe tbody tr th {\n",
       "        vertical-align: top;\n",
       "    }\n",
       "\n",
       "    .dataframe thead th {\n",
       "        text-align: right;\n",
       "    }\n",
       "</style>\n",
       "<table border=\"1\" class=\"dataframe\">\n",
       "  <thead>\n",
       "    <tr style=\"text-align: right;\">\n",
       "      <th></th>\n",
       "      <th>price</th>\n",
       "      <th>brand</th>\n",
       "      <th>model</th>\n",
       "      <th>year</th>\n",
       "      <th>title_status</th>\n",
       "      <th>mileage</th>\n",
       "      <th>color</th>\n",
       "      <th>state</th>\n",
       "      <th>country</th>\n",
       "    </tr>\n",
       "  </thead>\n",
       "  <tbody>\n",
       "    <tr>\n",
       "      <th>0</th>\n",
       "      <td>6300</td>\n",
       "      <td>toyota</td>\n",
       "      <td>cruiser</td>\n",
       "      <td>2008</td>\n",
       "      <td>clean vehicle</td>\n",
       "      <td>274117.0</td>\n",
       "      <td>black</td>\n",
       "      <td>new jersey</td>\n",
       "      <td>usa</td>\n",
       "    </tr>\n",
       "    <tr>\n",
       "      <th>1</th>\n",
       "      <td>2899</td>\n",
       "      <td>ford</td>\n",
       "      <td>se</td>\n",
       "      <td>2011</td>\n",
       "      <td>clean vehicle</td>\n",
       "      <td>190552.0</td>\n",
       "      <td>silver</td>\n",
       "      <td>tennessee</td>\n",
       "      <td>usa</td>\n",
       "    </tr>\n",
       "    <tr>\n",
       "      <th>2</th>\n",
       "      <td>5350</td>\n",
       "      <td>dodge</td>\n",
       "      <td>mpv</td>\n",
       "      <td>2018</td>\n",
       "      <td>clean vehicle</td>\n",
       "      <td>39590.0</td>\n",
       "      <td>silver</td>\n",
       "      <td>georgia</td>\n",
       "      <td>usa</td>\n",
       "    </tr>\n",
       "    <tr>\n",
       "      <th>3</th>\n",
       "      <td>25000</td>\n",
       "      <td>ford</td>\n",
       "      <td>door</td>\n",
       "      <td>2014</td>\n",
       "      <td>clean vehicle</td>\n",
       "      <td>64146.0</td>\n",
       "      <td>blue</td>\n",
       "      <td>virginia</td>\n",
       "      <td>usa</td>\n",
       "    </tr>\n",
       "    <tr>\n",
       "      <th>4</th>\n",
       "      <td>27700</td>\n",
       "      <td>chevrolet</td>\n",
       "      <td>1500</td>\n",
       "      <td>2018</td>\n",
       "      <td>clean vehicle</td>\n",
       "      <td>6654.0</td>\n",
       "      <td>red</td>\n",
       "      <td>florida</td>\n",
       "      <td>usa</td>\n",
       "    </tr>\n",
       "  </tbody>\n",
       "</table>\n",
       "</div>"
      ],
      "text/plain": [
       "   price      brand    model  year   title_status   mileage   color  \\\n",
       "0   6300     toyota  cruiser  2008  clean vehicle  274117.0   black   \n",
       "1   2899       ford       se  2011  clean vehicle  190552.0  silver   \n",
       "2   5350      dodge      mpv  2018  clean vehicle   39590.0  silver   \n",
       "3  25000       ford     door  2014  clean vehicle   64146.0    blue   \n",
       "4  27700  chevrolet     1500  2018  clean vehicle    6654.0     red   \n",
       "\n",
       "        state country  \n",
       "0  new jersey     usa  \n",
       "1   tennessee     usa  \n",
       "2     georgia     usa  \n",
       "3    virginia     usa  \n",
       "4     florida     usa  "
      ]
     },
     "execution_count": 65,
     "metadata": {},
     "output_type": "execute_result"
    }
   ],
   "source": [
    "data.head()"
   ]
  },
  {
   "cell_type": "code",
   "execution_count": 74,
   "metadata": {},
   "outputs": [
    {
     "data": {
      "image/png": "[encoded data removed]",
      "text/plain": [
       "<Figure size 1224x648 with 1 Axes>"
      ]
     },
     "metadata": {
      "needs_background": "light"
     },
     "output_type": "display_data"
    }
   ],
   "source": [
    "plt.figure(figsize=(17,9))\n",
    "data.brand.value_counts().plot(kind='barh')\n",
    "plt.xticks(fontsize=14)\n",
    "plt.yticks(fontsize=14)\n",
    "plt.ylabel('Brand',fontsize=14)\n",
    "plt.xlabel('Frequency',fontsize=14)\n",
    "plt.title('The frequency of Brands in the dataset',fontsize=20)\n",
    "plt.show()"
   ]
  },
  {
   "cell_type": "code",
   "execution_count": 75,
   "metadata": {},
   "outputs": [
    {
     "data": {
      "text/plain": [
       "' I see ford , dodge ,nissan , chevorlet,gmc,jeep have the most frequency , so im keeping only them to have a more accurate model '"
      ]
     },
     "execution_count": 75,
     "metadata": {},
     "output_type": "execute_result"
    }
   ],
   "source": [
    "\"\"\" I see ford , dodge ,nissan , chevorlet,gmc,jeep have the most frequency , so im keeping only them to have a more accurate model \"\"\""
   ]
  },
  {
   "cell_type": "code",
   "execution_count": 81,
   "metadata": {},
   "outputs": [
    {
     "name": "stdout",
     "output_type": "stream",
     "text": [
      "      price brand        model  year   title_status   mileage     color  \\\n",
      "1      2899  ford           se  2011  clean vehicle  190552.0    silver   \n",
      "3     25000  ford         door  2014  clean vehicle   64146.0      blue   \n",
      "9      5250  ford          mpv  2017  clean vehicle   63418.0     black   \n",
      "14    20700  ford         door  2013  clean vehicle  100757.0     black   \n",
      "18     5210  ford          mpv  2017  clean vehicle   35714.0     white   \n",
      "19    38100  ford         door  2013  clean vehicle   54380.0      gray   \n",
      "23     6180  ford          mpv  2017  clean vehicle   46010.0      blue   \n",
      "24    20800  ford         door  2013  clean vehicle  105510.0    silver   \n",
      "28     4190  ford        doors  2017  clean vehicle   44174.0     white   \n",
      "29    13000  ford      chassis  2008  clean vehicle   93698.0     white   \n",
      "33     5330  ford          mpv  2017  clean vehicle   37792.0  no_color   \n",
      "34    13000  ford  convertible  2003  clean vehicle   58817.0      gray   \n",
      "38     7320  ford          mpv  2017  clean vehicle   32366.0      gold   \n",
      "39     7000  ford           pk  2003  clean vehicle  176567.0     white   \n",
      "43     6330  ford          mpv  2017  clean vehicle   38123.0       red   \n",
      "44    55000  ford          srw  2017  clean vehicle   15273.0     black   \n",
      "49    54000  ford          srw  2017  clean vehicle   26241.0     black   \n",
      "53     7760  ford          mpv  2017  clean vehicle   44794.0      gray   \n",
      "63     6650  ford         door  2017  clean vehicle   29942.0     black   \n",
      "68     4340  ford         door  2017  clean vehicle   25602.0    silver   \n",
      "73     4430  ford         door  2017  clean vehicle   31792.0     black   \n",
      "78     4140  ford         door  2017  clean vehicle   36732.0     black   \n",
      "83     4640  ford         door  2017  clean vehicle   36139.0      blue   \n",
      "84    24000  ford         door  2016  clean vehicle   84413.0     black   \n",
      "88     4140  ford         door  2017  clean vehicle   17617.0     white   \n",
      "89    11500  ford         door  2016  clean vehicle   36855.0     black   \n",
      "90     9110  ford         door  2017  clean vehicle  110316.0     white   \n",
      "93     9300  ford         door  2017  clean vehicle  120353.0     white   \n",
      "96    15110  ford         door  2017  clean vehicle   39333.0     black   \n",
      "97    34000  ford         door  2015  clean vehicle   42930.0     white   \n",
      "...     ...   ...          ...   ...            ...       ...       ...   \n",
      "2174   9300  ford       fiesta  2019  clean vehicle   32305.0    silver   \n",
      "2175  14400  ford       fusion  2018  clean vehicle   38148.0     black   \n",
      "2176  19000  ford         flex  2019  clean vehicle   39976.0       red   \n",
      "2177  14000  ford       fusion  2018  clean vehicle   50513.0     white   \n",
      "2178  13600  ford       fusion  2019  clean vehicle   31408.0      gray   \n",
      "2179  19200  ford      transit  2018  clean vehicle   41351.0     white   \n",
      "2180  13600  ford       fusion  2019  clean vehicle   32038.0       red   \n",
      "2181  18600  ford      transit  2018  clean vehicle   38279.0     white   \n",
      "2182  13700  ford       fusion  2019  clean vehicle   30471.0       red   \n",
      "2183  18200  ford      transit  2018  clean vehicle   41569.0     white   \n",
      "2184  13800  ford       fusion  2019  clean vehicle   31142.0    silver   \n",
      "2185  22000  ford        wagon  2018  clean vehicle   31598.0     black   \n",
      "2186  13700  ford       fusion  2019  clean vehicle   31380.0    silver   \n",
      "2187  28000  ford        wagon  2018  clean vehicle   22179.0     black   \n",
      "2188  13800  ford       fusion  2019  clean vehicle   29266.0     white   \n",
      "2189  18600  ford      transit  2018  clean vehicle   42156.0     white   \n",
      "2190  13700  ford       fusion  2019  clean vehicle   30875.0       red   \n",
      "2191  13700  ford       fusion  2019  clean vehicle   30609.0    silver   \n",
      "2192  13800  ford       fusion  2019  clean vehicle   29508.0    silver   \n",
      "2193  17700  ford       hybrid  2019  clean vehicle   12837.0      gray   \n",
      "2194  13900  ford       fusion  2019  clean vehicle   29633.0     white   \n",
      "2195  13900  ford       fusion  2019  clean vehicle   27461.0  no_color   \n",
      "2196  50500  ford        f-650  2018  clean vehicle   74961.0     white   \n",
      "2197  13600  ford       fusion  2019  clean vehicle   32154.0      gray   \n",
      "2198  55000  ford          srw  2018  clean vehicle   37245.0     black   \n",
      "2199  13800  ford       fusion  2019  clean vehicle   29345.0     white   \n",
      "2200  56000  ford          srw  2018  clean vehicle   25371.0     black   \n",
      "2201  13800  ford       fusion  2019  clean vehicle   30054.0    silver   \n",
      "2202  45800  ford          srw  2018  clean vehicle   11173.0     white   \n",
      "2203  13800  ford       fusion  2019  clean vehicle   30902.0  no_color   \n",
      "\n",
      "               state country  \n",
      "1          tennessee     usa  \n",
      "3           virginia     usa  \n",
      "9              texas     usa  \n",
      "14          virginia     usa  \n",
      "18             texas     usa  \n",
      "19          virginia     usa  \n",
      "23             texas     usa  \n",
      "24          virginia     usa  \n",
      "28             texas     usa  \n",
      "29         tennessee     usa  \n",
      "33             texas     usa  \n",
      "34          virginia     usa  \n",
      "38             texas     usa  \n",
      "39         tennessee     usa  \n",
      "43             texas     usa  \n",
      "44      pennsylvania     usa  \n",
      "49      pennsylvania     usa  \n",
      "53             texas     usa  \n",
      "63             texas     usa  \n",
      "68             texas     usa  \n",
      "73             texas     usa  \n",
      "78             texas     usa  \n",
      "83             texas     usa  \n",
      "84      pennsylvania     usa  \n",
      "88             texas     usa  \n",
      "89      pennsylvania     usa  \n",
      "90             texas     usa  \n",
      "93             texas     usa  \n",
      "96             texas     usa  \n",
      "97      pennsylvania     usa  \n",
      "...              ...     ...  \n",
      "2174  north carolina     usa  \n",
      "2175    pennsylvania     usa  \n",
      "2176  north carolina     usa  \n",
      "2177    pennsylvania     usa  \n",
      "2178  north carolina     usa  \n",
      "2179    pennsylvania     usa  \n",
      "2180  north carolina     usa  \n",
      "2181    pennsylvania     usa  \n",
      "2182  north carolina     usa  \n",
      "2183    pennsylvania     usa  \n",
      "2184  north carolina     usa  \n",
      "2185    pennsylvania     usa  \n",
      "2186  north carolina     usa  \n",
      "2187    pennsylvania     usa  \n",
      "2188  north carolina     usa  \n",
      "2189    pennsylvania     usa  \n",
      "2190  north carolina     usa  \n",
      "2191  north carolina     usa  \n",
      "2192  north carolina     usa  \n",
      "2193  north carolina     usa  \n",
      "2194  north carolina     usa  \n",
      "2195  north carolina     usa  \n",
      "2196    pennsylvania     usa  \n",
      "2197  north carolina     usa  \n",
      "2198    pennsylvania     usa  \n",
      "2199  north carolina     usa  \n",
      "2200    pennsylvania     usa  \n",
      "2201  north carolina     usa  \n",
      "2202    pennsylvania     usa  \n",
      "2203  north carolina     usa  \n",
      "\n",
      "[1235 rows x 9 columns]\n",
      "      price  brand       model  year       title_status   mileage     color  \\\n",
      "2      5350  dodge         mpv  2018      clean vehicle   39590.0    silver   \n",
      "5      5700  dodge         mpv  2018      clean vehicle   45561.0     white   \n",
      "10    10400  dodge       coupe  2009      clean vehicle  107856.0    orange   \n",
      "48     5580  dodge         mpv  2017      clean vehicle   46829.0      gray   \n",
      "94    39800  dodge  challenger  2015      clean vehicle    3641.0     white   \n",
      "109   23100  dodge     durango  2018      clean vehicle   49496.0     white   \n",
      "115   25000  dodge     charger  2018      clean vehicle   28307.0    silver   \n",
      "129   11900  dodge     caravan  2017      clean vehicle   59537.0      gray   \n",
      "131    4160  dodge         mpv  2018      clean vehicle   32870.0      gray   \n",
      "133    5690  dodge         mpv  2018      clean vehicle   47085.0    silver   \n",
      "136    5090  dodge         mpv  2018      clean vehicle   42989.0      gray   \n",
      "139    6800  dodge        dart  2016      clean vehicle   49033.0     black   \n",
      "140    4260  dodge         mpv  2018      clean vehicle   33957.0      gray   \n",
      "141       0  dodge         van  2008  salvage insurance  177948.0    orange   \n",
      "143    7210  dodge       doors  2018      clean vehicle   38910.0     black   \n",
      "144       0  dodge        door  2014  salvage insurance  123660.0    silver   \n",
      "146    6800  dodge       doors  2018      clean vehicle   36767.0      gray   \n",
      "148   10780  dodge         mpv  2018      clean vehicle   19420.0     white   \n",
      "154    4040  dodge         mpv  2018      clean vehicle   50765.0       red   \n",
      "157    4290  dodge         mpv  2018      clean vehicle   39029.0     white   \n",
      "160    4160  dodge         mpv  2018      clean vehicle    6743.0      gray   \n",
      "163    6060  dodge       doors  2018      clean vehicle   32504.0     black   \n",
      "166    6140  dodge       doors  2018      clean vehicle   52966.0    silver   \n",
      "169    6760  dodge       doors  2018      clean vehicle   35461.0     white   \n",
      "172    5470  dodge         mpv  2018      clean vehicle   39721.0     black   \n",
      "185    1400  dodge          pk  2002      clean vehicle  185460.0     black   \n",
      "200    5000  dodge      pickup  2001      clean vehicle  109360.0     white   \n",
      "203    8600  dodge      pickup  2005      clean vehicle  219823.0      gray   \n",
      "221   15500  dodge        door  2012      clean vehicle   66452.0     black   \n",
      "224   15600  dodge        door  2011      clean vehicle   35275.0     black   \n",
      "...     ...    ...         ...   ...                ...       ...       ...   \n",
      "1168  17300  dodge     journey  2019      clean vehicle   25534.0    silver   \n",
      "1169  15900  dodge     journey  2019      clean vehicle   29716.0      gray   \n",
      "1170  15700  dodge     journey  2019      clean vehicle   34294.0    silver   \n",
      "1171  16900  dodge     journey  2019      clean vehicle   27643.0     white   \n",
      "1172  15500  dodge     journey  2019      clean vehicle   35516.0     white   \n",
      "1173  15100  dodge     journey  2019      clean vehicle   40674.0    silver   \n",
      "1174  15500  dodge     journey  2019      clean vehicle   32494.0     white   \n",
      "1175  15400  dodge     journey  2019      clean vehicle   35047.0       red   \n",
      "1176  16500  dodge     journey  2019      clean vehicle   32898.0    silver   \n",
      "1177  42500  dodge  challenger  2015      clean vehicle   13740.0     black   \n",
      "1178  16600  dodge     journey  2019      clean vehicle   23132.0  charcoal   \n",
      "1179  15200  dodge     journey  2019      clean vehicle   37174.0    silver   \n",
      "1180  15800  dodge     journey  2019      clean vehicle   34023.0  charcoal   \n",
      "1181  16900  dodge     journey  2019      clean vehicle   30021.0  charcoal   \n",
      "1182  11100  dodge     caravan  2017      clean vehicle   51469.0      gray   \n",
      "1183  15600  dodge     journey  2019      clean vehicle   31237.0  charcoal   \n",
      "1184  16900  dodge     journey  2019      clean vehicle   30186.0    silver   \n",
      "1185  15300  dodge     journey  2019      clean vehicle   41956.0    silver   \n",
      "1186  16600  dodge     journey  2019      clean vehicle   30727.0     black   \n",
      "1187  21800  dodge     durango  2017      clean vehicle   38956.0     black   \n",
      "1188  36500  dodge     charger  2018      clean vehicle   22036.0     white   \n",
      "1189  26300  dodge     durango  2019      clean vehicle   26462.0       red   \n",
      "1190  20900  dodge  challenger  2019      clean vehicle   23143.0       red   \n",
      "1191  20100  dodge  challenger  2019      clean vehicle   17340.0      gray   \n",
      "1192  26700  dodge     charger  2019      clean vehicle   29749.0      gray   \n",
      "1193  23900  dodge     charger  2019      clean vehicle   35248.0     white   \n",
      "1194  14500  dodge     caravan  2018      clean vehicle   40417.0  no_color   \n",
      "1195  23000  dodge     durango  2017      clean vehicle   30309.0      gray   \n",
      "1196  15000  dodge     journey  2018      clean vehicle   42303.0       red   \n",
      "1197  15000  dodge     journey  2018      clean vehicle   35326.0     white   \n",
      "\n",
      "               state country  \n",
      "2            georgia     usa  \n",
      "5              texas     usa  \n",
      "10           georgia     usa  \n",
      "48             texas     usa  \n",
      "94      pennsylvania     usa  \n",
      "109   south carolina     usa  \n",
      "115         michigan     usa  \n",
      "129   south carolina     usa  \n",
      "131          florida     usa  \n",
      "133          florida     usa  \n",
      "136          florida     usa  \n",
      "139         michigan     usa  \n",
      "140          florida     usa  \n",
      "141             utah     usa  \n",
      "143          florida     usa  \n",
      "144             utah     usa  \n",
      "146          florida     usa  \n",
      "148          florida     usa  \n",
      "154          florida     usa  \n",
      "157          florida     usa  \n",
      "160          florida     usa  \n",
      "163          florida     usa  \n",
      "166          florida     usa  \n",
      "169          florida     usa  \n",
      "172          florida     usa  \n",
      "185         michigan     usa  \n",
      "200          georgia     usa  \n",
      "203   south carolina     usa  \n",
      "221     pennsylvania     usa  \n",
      "224     pennsylvania     usa  \n",
      "...              ...     ...  \n",
      "1168  north carolina     usa  \n",
      "1169  north carolina     usa  \n",
      "1170  north carolina     usa  \n",
      "1171  north carolina     usa  \n",
      "1172  north carolina     usa  \n",
      "1173  north carolina     usa  \n",
      "1174  north carolina     usa  \n",
      "1175  north carolina     usa  \n",
      "1176  north carolina     usa  \n",
      "1177           texas     usa  \n",
      "1178  north carolina     usa  \n",
      "1179  north carolina     usa  \n",
      "1180  north carolina     usa  \n",
      "1181  north carolina     usa  \n",
      "1182  north carolina     usa  \n",
      "1183  north carolina     usa  \n",
      "1184  north carolina     usa  \n",
      "1185  north carolina     usa  \n",
      "1186  north carolina     usa  \n",
      "1187    pennsylvania     usa  \n",
      "1188        virginia     usa  \n",
      "1189         georgia     usa  \n",
      "1190         georgia     usa  \n",
      "1191         georgia     usa  \n",
      "1192         georgia     usa  \n",
      "1193         georgia     usa  \n",
      "1194         florida     usa  \n",
      "1195        virginia     usa  \n",
      "1196  north carolina     usa  \n",
      "1197  north carolina     usa  \n",
      "\n",
      "[426 rows x 9 columns]\n",
      "      price   brand       model  year   title_status  mileage   color  \\\n",
      "427    2630  nissan       doors  2018  clean vehicle  36739.0    gray   \n",
      "428    5690  nissan         mpv  2017  clean vehicle  42616.0    blue   \n",
      "441    3550  nissan       doors  2018  clean vehicle  29043.0    blue   \n",
      "442    3040  nissan       doors  2017  clean vehicle  36064.0    gray   \n",
      "454    3160  nissan       doors  2017  clean vehicle  34861.0    gray   \n",
      "464    3390  nissan       doors  2018  clean vehicle  38349.0    gray   \n",
      "465    3140  nissan       doors  2017  clean vehicle  30142.0   white   \n",
      "477    2630  nissan       doors  2018  clean vehicle  43152.0   white   \n",
      "478    3140  nissan       doors  2017  clean vehicle  34318.0  silver   \n",
      "489    8350  nissan         cab  2018  clean vehicle  32256.0    gray   \n",
      "491    3210  nissan       doors  2017  clean vehicle  25255.0   black   \n",
      "515    3820  nissan         mpv  2016  clean vehicle  41654.0    blue   \n",
      "517    2900  nissan       doors  2017  clean vehicle  31954.0    gray   \n",
      "529    3020  nissan       doors  2017  clean vehicle  33599.0   white   \n",
      "539    3800  nissan        door  2015  clean vehicle  83915.0   black   \n",
      "540    3160  nissan       doors  2017  clean vehicle  40306.0  silver   \n",
      "552    3210  nissan       doors  2017  clean vehicle  35251.0    gray   \n",
      "2204   5500  nissan      sentra  2018  clean vehicle  31231.0  silver   \n",
      "2205  14400  nissan      altima  2020  clean vehicle  10728.0    gray   \n",
      "2206  11450  nissan       sport  2018  clean vehicle  35374.0   white   \n",
      "2207  11000  nissan       sport  2018  clean vehicle  36715.0   black   \n",
      "2208  11450  nissan       sport  2018  clean vehicle  33437.0     red   \n",
      "2209  11000  nissan       sport  2018  clean vehicle  36788.0   black   \n",
      "2210  11200  nissan       sport  2018  clean vehicle  35491.0   black   \n",
      "2211  11400  nissan       sport  2018  clean vehicle  33644.0   black   \n",
      "2212  11450  nissan       sport  2018  clean vehicle  35831.0    gray   \n",
      "2213  11050  nissan       sport  2018  clean vehicle  35050.0    gray   \n",
      "2214  11400  nissan       sport  2018  clean vehicle  34924.0    gray   \n",
      "2215  11050  nissan       sport  2018  clean vehicle  34962.0  silver   \n",
      "2216  10850  nissan       sport  2018  clean vehicle  39985.0    gray   \n",
      "...     ...     ...         ...   ...            ...      ...     ...   \n",
      "2469  13900  nissan       rogue  2018  clean vehicle  34547.0   white   \n",
      "2470   3700  nissan        door  2015  clean vehicle  75858.0  silver   \n",
      "2471  18800  nissan  pathfinder  2019  clean vehicle  31123.0   white   \n",
      "2472   9200  nissan       versa  2018  clean vehicle  33808.0   black   \n",
      "2473  30100  nissan       titan  2019  clean vehicle  30599.0   black   \n",
      "2474   9200  nissan       versa  2018  clean vehicle  33931.0   black   \n",
      "2475  11100  nissan      sentra  2019  clean vehicle  40359.0   black   \n",
      "2476  13900  nissan       rogue  2018  clean vehicle  44313.0   white   \n",
      "2477   9100  nissan       versa  2018  clean vehicle  33078.0   black   \n",
      "2478  22800  nissan    frontier  2019  clean vehicle  24320.0   black   \n",
      "2479  13900  nissan       rogue  2018  clean vehicle  42502.0   black   \n",
      "2480  12600  nissan      altima  2019  clean vehicle  33497.0    gray   \n",
      "2481   9200  nissan       versa  2018  clean vehicle  39577.0  silver   \n",
      "2482  12100  nissan      altima  2019  clean vehicle  36974.0    gray   \n",
      "2483   9200  nissan       versa  2018  clean vehicle  41220.0   black   \n",
      "2484   2300  nissan    frontier  2019  clean vehicle      1.0  silver   \n",
      "2485  13900  nissan       rogue  2018  clean vehicle  41539.0   black   \n",
      "2486   9500  nissan      sentra  2019  clean vehicle  19646.0   black   \n",
      "2487  13900  nissan       rogue  2018  clean vehicle  39924.0   white   \n",
      "2488   1700  nissan        note  2019  clean vehicle  33279.0     red   \n",
      "2489  13900  nissan       rogue  2018  clean vehicle  40259.0    gray   \n",
      "2490  10400  nissan      sentra  2019  clean vehicle  25264.0    blue   \n",
      "2491   9200  nissan       versa  2018  clean vehicle  35677.0   black   \n",
      "2492   7400  nissan       versa  2019  clean vehicle  35511.0   black   \n",
      "2493   9200  nissan       versa  2018  clean vehicle  33027.0   black   \n",
      "2494   7800  nissan       versa  2019  clean vehicle  23609.0     red   \n",
      "2495   9200  nissan       versa  2018  clean vehicle  34553.0  silver   \n",
      "2496   9200  nissan       versa  2018  clean vehicle  31594.0  silver   \n",
      "2497   9200  nissan       versa  2018  clean vehicle  32557.0   black   \n",
      "2498   9200  nissan       versa  2018  clean vehicle  31371.0  silver   \n",
      "\n",
      "               state country  \n",
      "427       california     usa  \n",
      "428       new jersey     usa  \n",
      "441       california     usa  \n",
      "442       new jersey     usa  \n",
      "454       new jersey     usa  \n",
      "464       california     usa  \n",
      "465       new jersey     usa  \n",
      "477       california     usa  \n",
      "478       new jersey     usa  \n",
      "489       california     usa  \n",
      "491       new jersey     usa  \n",
      "515       california     usa  \n",
      "517       new jersey     usa  \n",
      "529       new jersey     usa  \n",
      "539       california     usa  \n",
      "540       new jersey     usa  \n",
      "552       new jersey     usa  \n",
      "2204  north carolina     usa  \n",
      "2205         arizona     usa  \n",
      "2206         florida     usa  \n",
      "2207         florida     usa  \n",
      "2208         florida     usa  \n",
      "2209         florida     usa  \n",
      "2210         florida     usa  \n",
      "2211         florida     usa  \n",
      "2212         florida     usa  \n",
      "2213         florida     usa  \n",
      "2214         florida     usa  \n",
      "2215         florida     usa  \n",
      "2216         florida     usa  \n",
      "...              ...     ...  \n",
      "2469         florida     usa  \n",
      "2470        illinois     usa  \n",
      "2471  north carolina     usa  \n",
      "2472         florida     usa  \n",
      "2473  north carolina     usa  \n",
      "2474         florida     usa  \n",
      "2475  north carolina     usa  \n",
      "2476         florida     usa  \n",
      "2477         florida     usa  \n",
      "2478        illinois     usa  \n",
      "2479         florida     usa  \n",
      "2480      california     usa  \n",
      "2481         florida     usa  \n",
      "2482      california     usa  \n",
      "2483         florida     usa  \n",
      "2484      california     usa  \n",
      "2485         florida     usa  \n",
      "2486      california     usa  \n",
      "2487         florida     usa  \n",
      "2488      california     usa  \n",
      "2489         florida     usa  \n",
      "2490      california     usa  \n",
      "2491         florida     usa  \n",
      "2492      california     usa  \n",
      "2493         florida     usa  \n",
      "2494      california     usa  \n",
      "2495         florida     usa  \n",
      "2496         florida     usa  \n",
      "2497         florida     usa  \n",
      "2498         florida     usa  \n",
      "\n",
      "[312 rows x 9 columns]\n",
      "     price      brand      model  year   title_status   mileage      color  \\\n",
      "4    27700  chevrolet       1500  2018  clean vehicle    6654.0        red   \n",
      "6     7300  chevrolet         pk  2010  clean vehicle  149050.0      black   \n",
      "8    14600  chevrolet     malibu  2018  clean vehicle    9371.0     silver   \n",
      "12   31900  chevrolet       1500  2018  clean vehicle   22909.0      black   \n",
      "22   15000  chevrolet       door  2015  clean vehicle   61578.0      black   \n",
      "32   29800  chevrolet     camaro  1973  clean vehicle   46226.0        red   \n",
      "37   19200  chevrolet       1500  2018  clean vehicle    2430.0      white   \n",
      "42   30500  chevrolet       1500  2018  clean vehicle   30442.0        red   \n",
      "47   19000  chevrolet     malibu  2017  clean vehicle   18414.0      white   \n",
      "62   17800  chevrolet       door  2017  clean vehicle   52435.0      black   \n",
      "67   18600  chevrolet       door  2017  clean vehicle   35200.0      white   \n",
      "82   18300  chevrolet     camaro  2017  clean vehicle   28395.0      black   \n",
      "87   14900  chevrolet    equinox  2017  clean vehicle   12783.0     silver   \n",
      "98   26502  chevrolet   colorado  2017  clean vehicle   24993.0      black   \n",
      "107  18003  chevrolet     malibu  2017  clean vehicle   19117.0   no_color   \n",
      "113  34002  chevrolet       1500  2017  clean vehicle   31923.0      white   \n",
      "116  20802  chevrolet   colorado  2017  clean vehicle   33791.0  turquoise   \n",
      "119  24802  chevrolet   colorado  2017  clean vehicle   14158.0       gray   \n",
      "124  23505  chevrolet   colorado  2017  clean vehicle   47357.0      black   \n",
      "127  53000  chevrolet       3500  2018  clean vehicle   16105.0      black   \n",
      "130  26414  chevrolet       1500  2017  clean vehicle   55222.0      black   \n",
      "132  19405  chevrolet       door  2017  clean vehicle   39687.0     silver   \n",
      "135  24005  chevrolet       1500  2017  clean vehicle   51293.0      beige   \n",
      "138  32012  chevrolet       1500  2017  clean vehicle   46091.0      white   \n",
      "142  31802  chevrolet       2500  2017  clean vehicle   19845.0     silver   \n",
      "145  28402  chevrolet       1500  2017  clean vehicle   31234.0      black   \n",
      "150  20000  chevrolet       1500  2016  clean vehicle   93493.0      white   \n",
      "153  37000  chevrolet       door  2015  clean vehicle   45787.0      white   \n",
      "156  31200  chevrolet       door  2011  clean vehicle   76326.0       gray   \n",
      "174  24502  chevrolet       1500  2016  clean vehicle   33624.0      black   \n",
      "..     ...        ...        ...   ...            ...       ...        ...   \n",
      "778  35100  chevrolet       1500  2018  clean vehicle   14751.0       blue   \n",
      "779  26300  chevrolet     camaro  2018  clean vehicle   11150.0       gray   \n",
      "780  15700  chevrolet   colorado  2016  clean vehicle   91248.0      white   \n",
      "781  17600  chevrolet       1500  2016  clean vehicle   65336.0      white   \n",
      "782  18600  chevrolet       1500  2016  clean vehicle   48974.0      white   \n",
      "783  19100  chevrolet       1500  2016  clean vehicle   40011.0      white   \n",
      "784  15200  chevrolet    equinox  2019  clean vehicle   37444.0      black   \n",
      "785  16100  chevrolet    equinox  2019  clean vehicle   43199.0      white   \n",
      "786  14800  chevrolet    equinox  2019  clean vehicle   43589.0   charcoal   \n",
      "787  16700  chevrolet    equinox  2019  clean vehicle   32870.0   charcoal   \n",
      "788  15300  chevrolet    equinox  2019  clean vehicle   38826.0   charcoal   \n",
      "789  16500  chevrolet    equinox  2019  clean vehicle   33739.0   charcoal   \n",
      "790  19600  chevrolet  passenger  2019  clean vehicle   35309.0      white   \n",
      "791  15200  chevrolet     impala  2019  clean vehicle   32248.0        red   \n",
      "792  15000  chevrolet     impala  2019  clean vehicle   36165.0     silver   \n",
      "793  15500  chevrolet     impala  2019  clean vehicle   29922.0   charcoal   \n",
      "794  15700  chevrolet     impala  2019  clean vehicle   26848.0     silver   \n",
      "795  14800  chevrolet     impala  2019  clean vehicle   41163.0   charcoal   \n",
      "796   9200  chevrolet      cruze  2017  clean vehicle   32856.0        red   \n",
      "797   8200  chevrolet     impala  2017  clean vehicle  100315.0      black   \n",
      "798  11400  chevrolet       door  2013  clean vehicle   91638.0     silver   \n",
      "799   6500  chevrolet       door  2015  clean vehicle   83173.0      white   \n",
      "800  11500  chevrolet       door  2014  clean vehicle   94356.0       gray   \n",
      "801  23800  chevrolet       door  2015  clean vehicle   85792.0      black   \n",
      "802   8900  chevrolet       door  2014  clean vehicle  129068.0      white   \n",
      "803  28300  chevrolet         ld  2019  clean vehicle   27665.0        red   \n",
      "804  27300  chevrolet         ld  2019  clean vehicle   25427.0      black   \n",
      "805   3500  chevrolet       door  2013  clean vehicle   78198.0       gray   \n",
      "806  28300  chevrolet   colorado  2020  clean vehicle   13886.0     silver   \n",
      "807  18300  chevrolet     impala  2019  clean vehicle   34538.0     silver   \n",
      "\n",
      "              state country  \n",
      "4           florida     usa  \n",
      "6           georgia     usa  \n",
      "8           florida     usa  \n",
      "12        tennessee     usa  \n",
      "22             ohio     usa  \n",
      "32     pennsylvania     usa  \n",
      "37        tennessee     usa  \n",
      "42        tennessee     usa  \n",
      "47        tennessee     usa  \n",
      "62          florida     usa  \n",
      "67          florida     usa  \n",
      "82          florida     usa  \n",
      "87          florida     usa  \n",
      "98         michigan     usa  \n",
      "107        michigan     usa  \n",
      "113        michigan     usa  \n",
      "116        michigan     usa  \n",
      "119        michigan     usa  \n",
      "124        michigan     usa  \n",
      "127      washington     usa  \n",
      "130        michigan     usa  \n",
      "132        michigan     usa  \n",
      "135        michigan     usa  \n",
      "138        michigan     usa  \n",
      "142        michigan     usa  \n",
      "145        michigan     usa  \n",
      "150      washington     usa  \n",
      "153      washington     usa  \n",
      "156      washington     usa  \n",
      "174        michigan     usa  \n",
      "..              ...     ...  \n",
      "778          kansas     usa  \n",
      "779          kansas     usa  \n",
      "780      new jersey     usa  \n",
      "781      new jersey     usa  \n",
      "782      new jersey     usa  \n",
      "783      new jersey     usa  \n",
      "784  north carolina     usa  \n",
      "785  north carolina     usa  \n",
      "786  north carolina     usa  \n",
      "787  north carolina     usa  \n",
      "788  north carolina     usa  \n",
      "789  north carolina     usa  \n",
      "790  north carolina     usa  \n",
      "791  north carolina     usa  \n",
      "792  north carolina     usa  \n",
      "793  north carolina     usa  \n",
      "794  north carolina     usa  \n",
      "795  north carolina     usa  \n",
      "796  north carolina     usa  \n",
      "797  north carolina     usa  \n",
      "798      new jersey     usa  \n",
      "799  north carolina     usa  \n",
      "800  north carolina     usa  \n",
      "801         florida     usa  \n",
      "802         florida     usa  \n",
      "803         indiana     usa  \n",
      "804         indiana     usa  \n",
      "805      new jersey     usa  \n",
      "806         indiana     usa  \n",
      "807         indiana     usa  \n",
      "\n",
      "[296 rows x 9 columns]\n",
      "     price brand    model  year       title_status   mileage       color  \\\n",
      "7    13350   gmc     door  2017      clean vehicle   23525.0        gray   \n",
      "11   12920   gmc      mpv  2017      clean vehicle   39650.0       white   \n",
      "15   12710   gmc     door  2017      clean vehicle   25747.0       white   \n",
      "20   12520   gmc     door  2017      clean vehicle   30114.0       white   \n",
      "25   11900   gmc     door  2017      clean vehicle   28040.0      silver   \n",
      "30   12710   gmc     door  2017      clean vehicle   26364.0      silver   \n",
      "35   11900   gmc     door  2017      clean vehicle   27965.0       black   \n",
      "40   12710   gmc     door  2017      clean vehicle   30049.0       white   \n",
      "45   12520   gmc     door  2017      clean vehicle   28972.0       black   \n",
      "50   12710   gmc      mpv  2017      clean vehicle   39886.0         red   \n",
      "55   12920   gmc      mpv  2017      clean vehicle   39165.0      silver   \n",
      "60   13490   gmc     door  2017      clean vehicle   27842.0       white   \n",
      "65   12710   gmc     door  2017      clean vehicle   32504.0      silver   \n",
      "70   12780   gmc     door  2017      clean vehicle   31009.0       black   \n",
      "75   12520   gmc     door  2017      clean vehicle   30636.0         red   \n",
      "80   12520   gmc     door  2017      clean vehicle   31992.0       black   \n",
      "85   13200   gmc     door  2017      clean vehicle   33457.0       white   \n",
      "306   9190   gmc      mpv  2017      clean vehicle   41961.0       black   \n",
      "315   5520   gmc      mpv  2017      clean vehicle   52904.0      silver   \n",
      "324   5520   gmc      mpv  2017      clean vehicle   35821.0      silver   \n",
      "332   6270   gmc      mpv  2017      clean vehicle   70443.0       black   \n",
      "341   5600   gmc      mpv  2017      clean vehicle   59808.0       black   \n",
      "347      0   gmc     door  2004  salvage insurance  235348.0        gold   \n",
      "348   5630   gmc      mpv  2017      clean vehicle   27195.0       black   \n",
      "356   6300   gmc      mpv  2017      clean vehicle  117400.0        blue   \n",
      "364   9270   gmc      mpv  2017      clean vehicle   19490.0        gray   \n",
      "372   9190   gmc      mpv  2017      clean vehicle   31394.0        gray   \n",
      "378   1025   gmc     door  2009  salvage insurance  169634.0       black   \n",
      "386     25   gmc     door  2003  salvage insurance  138441.0       white   \n",
      "422   5000   gmc     door  2012      clean vehicle  140339.0       black   \n",
      "436   5790   gmc     door  2012      clean vehicle  105020.0       white   \n",
      "448   8850   gmc     door  2011      clean vehicle  148035.0       white   \n",
      "458    500   gmc     door  2018  salvage insurance   27442.0       black   \n",
      "459   5100   gmc     door  2011      clean vehicle  144792.0       white   \n",
      "471  21400   gmc   acadia  2018      clean vehicle   54332.0        gray   \n",
      "472   5380   gmc      cab  2011      clean vehicle  119215.0       white   \n",
      "483  48500   gmc     1500  2019      clean vehicle   15777.0       black   \n",
      "484   3330   gmc      mpv  2009      clean vehicle   87448.0       white   \n",
      "497  26000   gmc  limited  2019      clean vehicle   16669.0       black   \n",
      "511   5630   gmc      mpv  2017      clean vehicle   58366.0       black   \n",
      "545      0   gmc     door  1993  salvage insurance       0.0  light blue   \n",
      "546  32500   gmc   2500hd  2018      clean vehicle   14856.0        blue   \n",
      "\n",
      "              state country  \n",
      "7        california     usa  \n",
      "11       california     usa  \n",
      "15       california     usa  \n",
      "20       california     usa  \n",
      "25       california     usa  \n",
      "30       california     usa  \n",
      "35       california     usa  \n",
      "40       california     usa  \n",
      "45       california     usa  \n",
      "50       california     usa  \n",
      "55       california     usa  \n",
      "60       california     usa  \n",
      "65       california     usa  \n",
      "70       california     usa  \n",
      "75       california     usa  \n",
      "80       california     usa  \n",
      "85       california     usa  \n",
      "306        virginia     usa  \n",
      "315        virginia     usa  \n",
      "324        virginia     usa  \n",
      "332        virginia     usa  \n",
      "341        virginia     usa  \n",
      "347  south carolina     usa  \n",
      "348        virginia     usa  \n",
      "356        virginia     usa  \n",
      "364        virginia     usa  \n",
      "372        virginia     usa  \n",
      "378        michigan     usa  \n",
      "386        michigan     usa  \n",
      "422            utah     usa  \n",
      "436            utah     usa  \n",
      "448            utah     usa  \n",
      "458        arkansas     usa  \n",
      "459            utah     usa  \n",
      "471      new jersey     usa  \n",
      "472            utah     usa  \n",
      "483    pennsylvania     usa  \n",
      "484            utah     usa  \n",
      "497    pennsylvania     usa  \n",
      "511        virginia     usa  \n",
      "545        colorado     usa  \n",
      "546    pennsylvania     usa  \n",
      "     price brand     model  year       title_status   mileage     color  \\\n",
      "46   16200  jeep   compass  2019      clean vehicle   30061.0       red   \n",
      "51   16000  jeep   compass  2019      clean vehicle   31594.0    silver   \n",
      "56   20000  jeep  cherokee  2019      clean vehicle   38355.0  charcoal   \n",
      "61   20700  jeep  cherokee  2019      clean vehicle   31156.0     white   \n",
      "66   21100  jeep  cherokee  2019      clean vehicle   28649.0    silver   \n",
      "71   15800  jeep   compass  2019      clean vehicle   35595.0  charcoal   \n",
      "76   15900  jeep   compass  2019      clean vehicle   34502.0       red   \n",
      "81   17900  jeep   compass  2019      clean vehicle   32501.0       red   \n",
      "86   18000  jeep   compass  2019      clean vehicle   29245.0      gray   \n",
      "289   6530  jeep       mpv  2019      clean vehicle   10185.0     black   \n",
      "298   4400  jeep       mpv  2019      clean vehicle   17911.0     green   \n",
      "307  10900  jeep       mpv  2019      clean vehicle   13273.0       red   \n",
      "316  10900  jeep       mpv  2019      clean vehicle   14195.0    orange   \n",
      "317   6330  jeep       mpv  2019      clean vehicle   43965.0       red   \n",
      "358   6930  jeep       mpv  2019      clean vehicle   47798.0       red   \n",
      "365  11380  jeep       mpv  2019      clean vehicle   12038.0     black   \n",
      "397   4150  jeep      door  2014      clean vehicle  108895.0     white   \n",
      "398     25  jeep      door  1999  salvage insurance  226972.0     black   \n",
      "407   7770  jeep      door  2014      clean vehicle   72732.0      gray   \n",
      "408    200  jeep      door  2001  salvage insurance  126400.0     green   \n",
      "461   5800  jeep       mpv  2019      clean vehicle   30546.0    silver   \n",
      "473  11000  jeep       mpv  2019      clean vehicle    8930.0       red   \n",
      "474   4950  jeep       mpv  2019      clean vehicle   46985.0    silver   \n",
      "485  11200  jeep       mpv  2019      clean vehicle    8395.0    yellow   \n",
      "499  11200  jeep       mpv  2019      clean vehicle   12905.0      gray   \n",
      "500   8610  jeep       mpv  2019      clean vehicle   22123.0    silver   \n",
      "512  11100  jeep       mpv  2019      clean vehicle   11229.0     white   \n",
      "524  10910  jeep       mpv  2019      clean vehicle   12253.0       red   \n",
      "536  11100  jeep       mpv  2019      clean vehicle   11449.0    yellow   \n",
      "548  11030  jeep       mpv  2019      clean vehicle   10861.0    yellow   \n",
      "\n",
      "              state country  \n",
      "46   north carolina     usa  \n",
      "51   north carolina     usa  \n",
      "56   north carolina     usa  \n",
      "61   north carolina     usa  \n",
      "66   north carolina     usa  \n",
      "71   north carolina     usa  \n",
      "76   north carolina     usa  \n",
      "81   north carolina     usa  \n",
      "86   north carolina     usa  \n",
      "289         georgia     usa  \n",
      "298         georgia     usa  \n",
      "307        michigan     usa  \n",
      "316        michigan     usa  \n",
      "317         florida     usa  \n",
      "358         florida     usa  \n",
      "365        michigan     usa  \n",
      "397        new york     usa  \n",
      "398         florida     usa  \n",
      "407        new york     usa  \n",
      "408        maryland     usa  \n",
      "461            ohio     usa  \n",
      "473        michigan     usa  \n",
      "474            ohio     usa  \n",
      "485        michigan     usa  \n",
      "499        michigan     usa  \n",
      "500            ohio     usa  \n",
      "512        michigan     usa  \n",
      "524        michigan     usa  \n",
      "536        michigan     usa  \n",
      "548        michigan     usa  \n"
     ]
    }
   ],
   "source": [
    "values_to_keep=['ford','dodge','nissan','chevrolet','gmc','jeep']\n",
    "for x in values_to_keep :\n",
    "    y=data[data['brand']==x]\n",
    "    print(y)\n",
    "    "
   ]
  },
  {
   "cell_type": "code",
   "execution_count": null,
   "metadata": {},
   "outputs": [],
   "source": [
    "\"\"\" That was a try to merging only the values i need by the for loop method , but it failed ':D'\"\"\""
   ]
  },
  {
   "cell_type": "code",
   "execution_count": 85,
   "metadata": {},
   "outputs": [],
   "source": [
    "data_ford=data[data['brand']=='ford']            \n",
    "data_dodge=data[data['brand']=='dodge']\n",
    "data_nissan=data[data['brand']=='nissan']\n",
    "data_chevrolet=data[data['brand']=='chevrolet']\n",
    "data_gmc=data[data['brand']=='gmc']\n",
    "data_jeep=data[data['brand']=='jeep']"
   ]
  },
  {
   "cell_type": "code",
   "execution_count": null,
   "metadata": {},
   "outputs": [],
   "source": [
    "\"\"\" I tried the slicing method , and then concating it again , I hope it works \"\"\""
   ]
  },
  {
   "cell_type": "code",
   "execution_count": 94,
   "metadata": {},
   "outputs": [
    {
     "data": {
      "text/plain": [
       "((1235, 9), (426, 9), (312, 9), (296, 9), (42, 9), (30, 9))"
      ]
     },
     "execution_count": 94,
     "metadata": {},
     "output_type": "execute_result"
    }
   ],
   "source": [
    "data_ford.shape ,data_dodge.shape,data_nissan.shape,data_chevrolet.shape,data_gmc.shape,data_jeep.shape"
   ]
  },
  {
   "cell_type": "code",
   "execution_count": 97,
   "metadata": {},
   "outputs": [],
   "source": [
    "data=pd.concat([data_ford ,data_dodge,data_nissan,data_chevrolet,data_gmc,data_jeep])"
   ]
  },
  {
   "cell_type": "code",
   "execution_count": 99,
   "metadata": {},
   "outputs": [
    {
     "data": {
      "text/plain": [
       "' It worked :D '"
      ]
     },
     "execution_count": 99,
     "metadata": {},
     "output_type": "execute_result"
    }
   ],
   "source": [
    "\"\"\" It worked :D \"\"\""
   ]
  },
  {
   "cell_type": "code",
   "execution_count": 100,
   "metadata": {},
   "outputs": [
    {
     "data": {
      "text/html": [
       "<div>\n",
       "<style scoped>\n",
       "    .dataframe tbody tr th:only-of-type {\n",
       "        vertical-align: middle;\n",
       "    }\n",
       "\n",
       "    .dataframe tbody tr th {\n",
       "        vertical-align: top;\n",
       "    }\n",
       "\n",
       "    .dataframe thead th {\n",
       "        text-align: right;\n",
       "    }\n",
       "</style>\n",
       "<table border=\"1\" class=\"dataframe\">\n",
       "  <thead>\n",
       "    <tr style=\"text-align: right;\">\n",
       "      <th></th>\n",
       "      <th>price</th>\n",
       "      <th>brand</th>\n",
       "      <th>model</th>\n",
       "      <th>year</th>\n",
       "      <th>title_status</th>\n",
       "      <th>mileage</th>\n",
       "      <th>color</th>\n",
       "      <th>state</th>\n",
       "      <th>country</th>\n",
       "    </tr>\n",
       "  </thead>\n",
       "  <tbody>\n",
       "    <tr>\n",
       "      <th>1</th>\n",
       "      <td>2899</td>\n",
       "      <td>ford</td>\n",
       "      <td>se</td>\n",
       "      <td>2011</td>\n",
       "      <td>clean vehicle</td>\n",
       "      <td>190552.0</td>\n",
       "      <td>silver</td>\n",
       "      <td>tennessee</td>\n",
       "      <td>usa</td>\n",
       "    </tr>\n",
       "    <tr>\n",
       "      <th>3</th>\n",
       "      <td>25000</td>\n",
       "      <td>ford</td>\n",
       "      <td>door</td>\n",
       "      <td>2014</td>\n",
       "      <td>clean vehicle</td>\n",
       "      <td>64146.0</td>\n",
       "      <td>blue</td>\n",
       "      <td>virginia</td>\n",
       "      <td>usa</td>\n",
       "    </tr>\n",
       "    <tr>\n",
       "      <th>9</th>\n",
       "      <td>5250</td>\n",
       "      <td>ford</td>\n",
       "      <td>mpv</td>\n",
       "      <td>2017</td>\n",
       "      <td>clean vehicle</td>\n",
       "      <td>63418.0</td>\n",
       "      <td>black</td>\n",
       "      <td>texas</td>\n",
       "      <td>usa</td>\n",
       "    </tr>\n",
       "    <tr>\n",
       "      <th>14</th>\n",
       "      <td>20700</td>\n",
       "      <td>ford</td>\n",
       "      <td>door</td>\n",
       "      <td>2013</td>\n",
       "      <td>clean vehicle</td>\n",
       "      <td>100757.0</td>\n",
       "      <td>black</td>\n",
       "      <td>virginia</td>\n",
       "      <td>usa</td>\n",
       "    </tr>\n",
       "    <tr>\n",
       "      <th>18</th>\n",
       "      <td>5210</td>\n",
       "      <td>ford</td>\n",
       "      <td>mpv</td>\n",
       "      <td>2017</td>\n",
       "      <td>clean vehicle</td>\n",
       "      <td>35714.0</td>\n",
       "      <td>white</td>\n",
       "      <td>texas</td>\n",
       "      <td>usa</td>\n",
       "    </tr>\n",
       "  </tbody>\n",
       "</table>\n",
       "</div>"
      ],
      "text/plain": [
       "    price brand model  year   title_status   mileage   color      state  \\\n",
       "1    2899  ford    se  2011  clean vehicle  190552.0  silver  tennessee   \n",
       "3   25000  ford  door  2014  clean vehicle   64146.0    blue   virginia   \n",
       "9    5250  ford   mpv  2017  clean vehicle   63418.0   black      texas   \n",
       "14  20700  ford  door  2013  clean vehicle  100757.0   black   virginia   \n",
       "18   5210  ford   mpv  2017  clean vehicle   35714.0   white      texas   \n",
       "\n",
       "   country  \n",
       "1      usa  \n",
       "3      usa  \n",
       "9      usa  \n",
       "14     usa  \n",
       "18     usa  "
      ]
     },
     "execution_count": 100,
     "metadata": {},
     "output_type": "execute_result"
    }
   ],
   "source": [
    "data.head()"
   ]
  },
  {
   "cell_type": "code",
   "execution_count": 101,
   "metadata": {},
   "outputs": [
    {
     "data": {
      "image/png": "[encoded data removed]",
      "text/plain": [
       "<Figure size 1224x648 with 1 Axes>"
      ]
     },
     "metadata": {
      "needs_background": "light"
     },
     "output_type": "display_data"
    }
   ],
   "source": [
    "plt.figure(figsize=(17,9))\n",
    "data.brand.value_counts().plot(kind='barh')\n",
    "plt.xticks(fontsize=14)\n",
    "plt.yticks(fontsize=14)\n",
    "plt.ylabel('Brand',fontsize=14)\n",
    "plt.xlabel('Frequency',fontsize=14)\n",
    "plt.title('The frequency of Brands in the dataset',fontsize=20)\n",
    "plt.show()"
   ]
  },
  {
   "cell_type": "code",
   "execution_count": 102,
   "metadata": {},
   "outputs": [
    {
     "data": {
      "text/plain": [
       "' Making sure that everything is good , no problems till now '"
      ]
     },
     "execution_count": 102,
     "metadata": {},
     "output_type": "execute_result"
    }
   ],
   "source": [
    "\"\"\" Making sure that everything is good , no problems till now \"\"\""
   ]
  },
  {
   "cell_type": "code",
   "execution_count": 103,
   "metadata": {},
   "outputs": [
    {
     "data": {
      "text/html": [
       "<div>\n",
       "<style scoped>\n",
       "    .dataframe tbody tr th:only-of-type {\n",
       "        vertical-align: middle;\n",
       "    }\n",
       "\n",
       "    .dataframe tbody tr th {\n",
       "        vertical-align: top;\n",
       "    }\n",
       "\n",
       "    .dataframe thead th {\n",
       "        text-align: right;\n",
       "    }\n",
       "</style>\n",
       "<table border=\"1\" class=\"dataframe\">\n",
       "  <thead>\n",
       "    <tr style=\"text-align: right;\">\n",
       "      <th></th>\n",
       "      <th>price</th>\n",
       "      <th>brand</th>\n",
       "      <th>model</th>\n",
       "      <th>year</th>\n",
       "      <th>title_status</th>\n",
       "      <th>mileage</th>\n",
       "      <th>color</th>\n",
       "      <th>state</th>\n",
       "      <th>country</th>\n",
       "    </tr>\n",
       "  </thead>\n",
       "  <tbody>\n",
       "    <tr>\n",
       "      <th>1</th>\n",
       "      <td>2899</td>\n",
       "      <td>ford</td>\n",
       "      <td>se</td>\n",
       "      <td>2011</td>\n",
       "      <td>clean vehicle</td>\n",
       "      <td>190552.0</td>\n",
       "      <td>silver</td>\n",
       "      <td>tennessee</td>\n",
       "      <td>usa</td>\n",
       "    </tr>\n",
       "    <tr>\n",
       "      <th>3</th>\n",
       "      <td>25000</td>\n",
       "      <td>ford</td>\n",
       "      <td>door</td>\n",
       "      <td>2014</td>\n",
       "      <td>clean vehicle</td>\n",
       "      <td>64146.0</td>\n",
       "      <td>blue</td>\n",
       "      <td>virginia</td>\n",
       "      <td>usa</td>\n",
       "    </tr>\n",
       "    <tr>\n",
       "      <th>9</th>\n",
       "      <td>5250</td>\n",
       "      <td>ford</td>\n",
       "      <td>mpv</td>\n",
       "      <td>2017</td>\n",
       "      <td>clean vehicle</td>\n",
       "      <td>63418.0</td>\n",
       "      <td>black</td>\n",
       "      <td>texas</td>\n",
       "      <td>usa</td>\n",
       "    </tr>\n",
       "    <tr>\n",
       "      <th>14</th>\n",
       "      <td>20700</td>\n",
       "      <td>ford</td>\n",
       "      <td>door</td>\n",
       "      <td>2013</td>\n",
       "      <td>clean vehicle</td>\n",
       "      <td>100757.0</td>\n",
       "      <td>black</td>\n",
       "      <td>virginia</td>\n",
       "      <td>usa</td>\n",
       "    </tr>\n",
       "    <tr>\n",
       "      <th>18</th>\n",
       "      <td>5210</td>\n",
       "      <td>ford</td>\n",
       "      <td>mpv</td>\n",
       "      <td>2017</td>\n",
       "      <td>clean vehicle</td>\n",
       "      <td>35714.0</td>\n",
       "      <td>white</td>\n",
       "      <td>texas</td>\n",
       "      <td>usa</td>\n",
       "    </tr>\n",
       "  </tbody>\n",
       "</table>\n",
       "</div>"
      ],
      "text/plain": [
       "    price brand model  year   title_status   mileage   color      state  \\\n",
       "1    2899  ford    se  2011  clean vehicle  190552.0  silver  tennessee   \n",
       "3   25000  ford  door  2014  clean vehicle   64146.0    blue   virginia   \n",
       "9    5250  ford   mpv  2017  clean vehicle   63418.0   black      texas   \n",
       "14  20700  ford  door  2013  clean vehicle  100757.0   black   virginia   \n",
       "18   5210  ford   mpv  2017  clean vehicle   35714.0   white      texas   \n",
       "\n",
       "   country  \n",
       "1      usa  \n",
       "3      usa  \n",
       "9      usa  \n",
       "14     usa  \n",
       "18     usa  "
      ]
     },
     "execution_count": 103,
     "metadata": {},
     "output_type": "execute_result"
    }
   ],
   "source": [
    "data.head()"
   ]
  },
  {
   "cell_type": "code",
   "execution_count": 104,
   "metadata": {},
   "outputs": [
    {
     "data": {
      "text/plain": [
       "\" I think now country column is useless , as we only analyzing cars from usa , so I'm dropping it \""
      ]
     },
     "execution_count": 104,
     "metadata": {},
     "output_type": "execute_result"
    }
   ],
   "source": [
    "\"\"\" I think now country column is useless , as we only analyzing cars from usa , so I'm dropping it \"\"\""
   ]
  },
  {
   "cell_type": "code",
   "execution_count": 106,
   "metadata": {},
   "outputs": [],
   "source": [
    "data=data.drop('country',axis=1) #dropping the country column "
   ]
  },
  {
   "cell_type": "code",
   "execution_count": 107,
   "metadata": {},
   "outputs": [
    {
     "data": {
      "text/html": [
       "<div>\n",
       "<style scoped>\n",
       "    .dataframe tbody tr th:only-of-type {\n",
       "        vertical-align: middle;\n",
       "    }\n",
       "\n",
       "    .dataframe tbody tr th {\n",
       "        vertical-align: top;\n",
       "    }\n",
       "\n",
       "    .dataframe thead th {\n",
       "        text-align: right;\n",
       "    }\n",
       "</style>\n",
       "<table border=\"1\" class=\"dataframe\">\n",
       "  <thead>\n",
       "    <tr style=\"text-align: right;\">\n",
       "      <th></th>\n",
       "      <th>price</th>\n",
       "      <th>brand</th>\n",
       "      <th>model</th>\n",
       "      <th>year</th>\n",
       "      <th>title_status</th>\n",
       "      <th>mileage</th>\n",
       "      <th>color</th>\n",
       "      <th>state</th>\n",
       "    </tr>\n",
       "  </thead>\n",
       "  <tbody>\n",
       "    <tr>\n",
       "      <th>1</th>\n",
       "      <td>2899</td>\n",
       "      <td>ford</td>\n",
       "      <td>se</td>\n",
       "      <td>2011</td>\n",
       "      <td>clean vehicle</td>\n",
       "      <td>190552.0</td>\n",
       "      <td>silver</td>\n",
       "      <td>tennessee</td>\n",
       "    </tr>\n",
       "    <tr>\n",
       "      <th>3</th>\n",
       "      <td>25000</td>\n",
       "      <td>ford</td>\n",
       "      <td>door</td>\n",
       "      <td>2014</td>\n",
       "      <td>clean vehicle</td>\n",
       "      <td>64146.0</td>\n",
       "      <td>blue</td>\n",
       "      <td>virginia</td>\n",
       "    </tr>\n",
       "    <tr>\n",
       "      <th>9</th>\n",
       "      <td>5250</td>\n",
       "      <td>ford</td>\n",
       "      <td>mpv</td>\n",
       "      <td>2017</td>\n",
       "      <td>clean vehicle</td>\n",
       "      <td>63418.0</td>\n",
       "      <td>black</td>\n",
       "      <td>texas</td>\n",
       "    </tr>\n",
       "    <tr>\n",
       "      <th>14</th>\n",
       "      <td>20700</td>\n",
       "      <td>ford</td>\n",
       "      <td>door</td>\n",
       "      <td>2013</td>\n",
       "      <td>clean vehicle</td>\n",
       "      <td>100757.0</td>\n",
       "      <td>black</td>\n",
       "      <td>virginia</td>\n",
       "    </tr>\n",
       "    <tr>\n",
       "      <th>18</th>\n",
       "      <td>5210</td>\n",
       "      <td>ford</td>\n",
       "      <td>mpv</td>\n",
       "      <td>2017</td>\n",
       "      <td>clean vehicle</td>\n",
       "      <td>35714.0</td>\n",
       "      <td>white</td>\n",
       "      <td>texas</td>\n",
       "    </tr>\n",
       "  </tbody>\n",
       "</table>\n",
       "</div>"
      ],
      "text/plain": [
       "    price brand model  year   title_status   mileage   color      state\n",
       "1    2899  ford    se  2011  clean vehicle  190552.0  silver  tennessee\n",
       "3   25000  ford  door  2014  clean vehicle   64146.0    blue   virginia\n",
       "9    5250  ford   mpv  2017  clean vehicle   63418.0   black      texas\n",
       "14  20700  ford  door  2013  clean vehicle  100757.0   black   virginia\n",
       "18   5210  ford   mpv  2017  clean vehicle   35714.0   white      texas"
      ]
     },
     "execution_count": 107,
     "metadata": {},
     "output_type": "execute_result"
    }
   ],
   "source": [
    "data.head()"
   ]
  },
  {
   "cell_type": "code",
   "execution_count": 114,
   "metadata": {},
   "outputs": [
    {
     "data": {
      "text/plain": [
       "<matplotlib.axes._subplots.AxesSubplot at 0x172775074e0>"
      ]
     },
     "execution_count": 114,
     "metadata": {},
     "output_type": "execute_result"
    },
    {
     "data": {
      "image/png": "[encoded data removed]",
      "text/plain": [
       "<Figure size 1008x504 with 1 Axes>"
      ]
     },
     "metadata": {
      "needs_background": "light"
     },
     "output_type": "display_data"
    }
   ],
   "source": [
    "#searching for the higher frequency values in the model column \n",
    "plt.figure(figsize=(14,7))     \n",
    "data.model.value_counts()[:20].plot(kind='barh')"
   ]
  },
  {
   "cell_type": "code",
   "execution_count": 116,
   "metadata": {},
   "outputs": [
    {
     "data": {
      "text/plain": [
       "' I here displayed the models with the highest frequencies , I will keep only the highest 20 models to not overfit our model '"
      ]
     },
     "execution_count": 116,
     "metadata": {},
     "output_type": "execute_result"
    }
   ],
   "source": [
    "\"\"\" I here displayed the models with the highest frequencies , I will keep only the highest 20 models to not overfit our model \"\"\""
   ]
  },
  {
   "cell_type": "code",
   "execution_count": 117,
   "metadata": {},
   "outputs": [
    {
     "data": {
      "text/plain": [
       "door          606\n",
       "f-150         219\n",
       "doors         137\n",
       "caravan       102\n",
       "mpv            68\n",
       "fusion         65\n",
       "durango        64\n",
       "journey        61\n",
       "rogue          54\n",
       "challenger     44\n",
       "van            42\n",
       "transit        41\n",
       "max            41\n",
       "escape         39\n",
       "explorer       39\n",
       "srw            38\n",
       "1500           38\n",
       "sport          37\n",
       "charger        36\n",
       "edge           34\n",
       "Name: model, dtype: int64"
      ]
     },
     "execution_count": 117,
     "metadata": {},
     "output_type": "execute_result"
    }
   ],
   "source": [
    "data.model.value_counts()[:20]"
   ]
  },
  {
   "cell_type": "code",
   "execution_count": 119,
   "metadata": {},
   "outputs": [],
   "source": [
    "#choosing only the models we need \n",
    "data_door=data[data['model']=='door']\n",
    "data_f_150=data[data['model']=='f-150']\n",
    "data_doors=data[data['model']=='doors']\n",
    "data_caravan=data[data['model']=='caravan']\n",
    "data_mpv=data[data['model']=='mpv']\n",
    "data_fusion=data[data['model']=='fusion']\n",
    "data_durango=data[data['model']=='durango']\n",
    "data_journey=data[data['model']=='journey']\n",
    "data_rogue=data[data['model']=='rogue']\n",
    "data_challenger=data[data['model']=='challenger']\n",
    "data_van=data[data['model']=='van']\n",
    "data_transit=data[data['model']=='transit']\n",
    "data_max=data[data['model']=='max']\n",
    "data_escape=data[data['model']=='escape']\n",
    "data_explorer=data[data['model']=='explorer']\n",
    "data_srw=data[data['model']=='srw']\n",
    "data_1500=data[data['model']=='1500']\n",
    "data_sport=data[data['model']=='sport']\n",
    "data_charger=data[data['model']=='charger']\n",
    "data_edge=data[data['model']=='edge']\n",
    "\n"
   ]
  },
  {
   "cell_type": "code",
   "execution_count": 140,
   "metadata": {},
   "outputs": [
    {
     "data": {
      "text/plain": [
       "((606, 8),\n",
       " (219, 8),\n",
       " (137, 8),\n",
       " (102, 8),\n",
       " (68, 8),\n",
       " (65, 8),\n",
       " (64, 8),\n",
       " (61, 8),\n",
       " (54, 8),\n",
       " (44, 8),\n",
       " (42, 8),\n",
       " (41, 8),\n",
       " (41, 8),\n",
       " (39, 8),\n",
       " (39, 8),\n",
       " (38, 8),\n",
       " (38, 8),\n",
       " (37, 8),\n",
       " (36, 8),\n",
       " (34, 8))"
      ]
     },
     "execution_count": 140,
     "metadata": {},
     "output_type": "execute_result"
    }
   ],
   "source": [
    "data_door.shape,data_f_150.shape,data_doors.shape,data_caravan.shape,data_mpv.shape,data_fusion.shape,data_durango.shape,data_journey.shape,data_rogue.shape,data_challenger.shape,data_van.shape,data_transit.shape,data_max.shape,data_escape.shape,data_explorer.shape,data_srw.shape,data_1500.shape,data_sport.shape,data_charger.shape,data_edge.shape\n",
    "\n"
   ]
  },
  {
   "cell_type": "code",
   "execution_count": null,
   "metadata": {},
   "outputs": [],
   "source": []
  },
  {
   "cell_type": "code",
   "execution_count": null,
   "metadata": {},
   "outputs": [],
   "source": []
  },
  {
   "cell_type": "code",
   "execution_count": 143,
   "metadata": {},
   "outputs": [],
   "source": [
    "data_y=pd.concat([data_door,data_f_150,data_doors,data_caravan,data_mpv,data_fusion,data_durango,data_journey,data_rogue,data_challenger,data_van,data_transit,data_max,data_escape,data_explorer,data_srw,data_1500,data_sport,data_charger,data_edge])"
   ]
  },
  {
   "cell_type": "code",
   "execution_count": null,
   "metadata": {},
   "outputs": [],
   "source": [
    "\"\"\" now we have the most frequent models only to prevent overfitting \"\"\""
   ]
  },
  {
   "cell_type": "code",
   "execution_count": 149,
   "metadata": {},
   "outputs": [
    {
     "data": {
      "text/html": [
       "<div>\n",
       "<style scoped>\n",
       "    .dataframe tbody tr th:only-of-type {\n",
       "        vertical-align: middle;\n",
       "    }\n",
       "\n",
       "    .dataframe tbody tr th {\n",
       "        vertical-align: top;\n",
       "    }\n",
       "\n",
       "    .dataframe thead th {\n",
       "        text-align: right;\n",
       "    }\n",
       "</style>\n",
       "<table border=\"1\" class=\"dataframe\">\n",
       "  <thead>\n",
       "    <tr style=\"text-align: right;\">\n",
       "      <th></th>\n",
       "      <th>price</th>\n",
       "      <th>brand</th>\n",
       "      <th>model</th>\n",
       "      <th>year</th>\n",
       "      <th>title_status</th>\n",
       "      <th>mileage</th>\n",
       "      <th>color</th>\n",
       "      <th>state</th>\n",
       "    </tr>\n",
       "  </thead>\n",
       "  <tbody>\n",
       "    <tr>\n",
       "      <th>3</th>\n",
       "      <td>25000</td>\n",
       "      <td>ford</td>\n",
       "      <td>door</td>\n",
       "      <td>2014</td>\n",
       "      <td>clean vehicle</td>\n",
       "      <td>64146.0</td>\n",
       "      <td>blue</td>\n",
       "      <td>virginia</td>\n",
       "    </tr>\n",
       "    <tr>\n",
       "      <th>14</th>\n",
       "      <td>20700</td>\n",
       "      <td>ford</td>\n",
       "      <td>door</td>\n",
       "      <td>2013</td>\n",
       "      <td>clean vehicle</td>\n",
       "      <td>100757.0</td>\n",
       "      <td>black</td>\n",
       "      <td>virginia</td>\n",
       "    </tr>\n",
       "    <tr>\n",
       "      <th>19</th>\n",
       "      <td>38100</td>\n",
       "      <td>ford</td>\n",
       "      <td>door</td>\n",
       "      <td>2013</td>\n",
       "      <td>clean vehicle</td>\n",
       "      <td>54380.0</td>\n",
       "      <td>gray</td>\n",
       "      <td>virginia</td>\n",
       "    </tr>\n",
       "    <tr>\n",
       "      <th>24</th>\n",
       "      <td>20800</td>\n",
       "      <td>ford</td>\n",
       "      <td>door</td>\n",
       "      <td>2013</td>\n",
       "      <td>clean vehicle</td>\n",
       "      <td>105510.0</td>\n",
       "      <td>silver</td>\n",
       "      <td>virginia</td>\n",
       "    </tr>\n",
       "    <tr>\n",
       "      <th>63</th>\n",
       "      <td>6650</td>\n",
       "      <td>ford</td>\n",
       "      <td>door</td>\n",
       "      <td>2017</td>\n",
       "      <td>clean vehicle</td>\n",
       "      <td>29942.0</td>\n",
       "      <td>black</td>\n",
       "      <td>texas</td>\n",
       "    </tr>\n",
       "  </tbody>\n",
       "</table>\n",
       "</div>"
      ],
      "text/plain": [
       "    price brand model  year   title_status   mileage   color     state\n",
       "3   25000  ford  door  2014  clean vehicle   64146.0    blue  virginia\n",
       "14  20700  ford  door  2013  clean vehicle  100757.0   black  virginia\n",
       "19  38100  ford  door  2013  clean vehicle   54380.0    gray  virginia\n",
       "24  20800  ford  door  2013  clean vehicle  105510.0  silver  virginia\n",
       "63   6650  ford  door  2017  clean vehicle   29942.0   black     texas"
      ]
     },
     "execution_count": 149,
     "metadata": {},
     "output_type": "execute_result"
    }
   ],
   "source": [
    "data_y.head()"
   ]
  },
  {
   "cell_type": "code",
   "execution_count": 151,
   "metadata": {},
   "outputs": [
    {
     "data": {
      "text/plain": [
       "(1805, 8)"
      ]
     },
     "execution_count": 151,
     "metadata": {},
     "output_type": "execute_result"
    }
   ],
   "source": [
    "data_y.shape"
   ]
  },
  {
   "cell_type": "code",
   "execution_count": 159,
   "metadata": {},
   "outputs": [
    {
     "data": {
      "text/plain": [
       "<matplotlib.axes._subplots.AxesSubplot at 0x17278c20cf8>"
      ]
     },
     "execution_count": 159,
     "metadata": {},
     "output_type": "execute_result"
    },
    {
     "data": {
      "image/png": "[encoded data removed]",
      "text/plain": [
       "<Figure size 432x288 with 1 Axes>"
      ]
     },
     "metadata": {
      "needs_background": "light"
     },
     "output_type": "display_data"
    }
   ],
   "source": [
    "data_y.title_status.value_counts().plot(kind='barh')"
   ]
  },
  {
   "cell_type": "code",
   "execution_count": null,
   "metadata": {},
   "outputs": [],
   "source": [
    "\"\"\" the title_status column has only 2 values , so we're keeping them both \"\"\""
   ]
  },
  {
   "cell_type": "code",
   "execution_count": 158,
   "metadata": {},
   "outputs": [
    {
     "data": {
      "text/plain": [
       "<matplotlib.axes._subplots.AxesSubplot at 0x17278b42710>"
      ]
     },
     "execution_count": 158,
     "metadata": {},
     "output_type": "execute_result"
    },
    {
     "data": {
      "image/png": "[encoded data removed]",
      "text/plain": [
       "<Figure size 1008x504 with 1 Axes>"
      ]
     },
     "metadata": {
      "needs_background": "light"
     },
     "output_type": "display_data"
    }
   ],
   "source": [
    "#displaying the colors in the dataset \n",
    "plt.figure(figsize=(14,7))\n",
    "data_y.color.value_counts().plot(kind='barh')"
   ]
  },
  {
   "cell_type": "code",
   "execution_count": 181,
   "metadata": {},
   "outputs": [
    {
     "data": {
      "text/plain": [
       "<matplotlib.axes._subplots.AxesSubplot at 0x17278c8bac8>"
      ]
     },
     "execution_count": 181,
     "metadata": {},
     "output_type": "execute_result"
    },
    {
     "data": {
      "image/png": "[encoded data removed]",
      "text/plain": [
       "<Figure size 432x288 with 1 Axes>"
      ]
     },
     "metadata": {
      "needs_background": "light"
     },
     "output_type": "display_data"
    }
   ],
   "source": [
    "data_y.color.value_counts()[:20].plot(kind='barh')  #displaying only the most 20 frequent colors "
   ]
  },
  {
   "cell_type": "code",
   "execution_count": 165,
   "metadata": {},
   "outputs": [],
   "source": [
    "#choosing only the higher frequecy values \n",
    "data_white=data_y[data_y['color']=='white']\n",
    "data_black=data_y[data_y['color']=='black']\n",
    "data_gray=data_y[data_y['color']=='gray']\n",
    "data_silver=data_y[data_y['color']=='silver']\n",
    "data_red=data_y[data_y['color']=='red']\n",
    "data_blue=data_y[data_y['color']=='blue']\n",
    "data_nocolor=data_y[data_y['color']=='no_color']\n",
    "data_orange=data_y[data_y['color']=='orange']\n",
    "data_green=data_y[data_y['color']=='green']\n",
    "data_gold=data_y[data_y['color']=='gold']\n",
    "data_charcoal=data_y[data_y['color']=='charcoal']\n",
    "data_magnetic=data_y[data_y['color']=='magnetic metallic']\n",
    "data_yellow=data_y[data_y['color']=='yellow']\n",
    "data_shadow_black=data_y[data_y['color']=='shadow black']\n",
    "data_ingot=data_y[data_y['color']=='ingot silver metallic']\n",
    "data_oxford=data_y[data_y['color']=='oxford white']\n",
    "data_triple=data_y[data_y['color']=='triple yellow tri-coat']\n",
    "data_super=data_y[data_y['color']=='super black']\n",
    "data_billet=data_y[data_y['color']=='billet silver metallic clearcoat']\n",
    "data_brown=data_y[data_y['color']=='brown']\n"
   ]
  },
  {
   "cell_type": "code",
   "execution_count": 168,
   "metadata": {},
   "outputs": [],
   "source": [
    "data=pd.concat([data_white,data_black,data_gray,data_silver,data_red,data_blue,data_nocolor,data_orange,data_green,data_gold,data_charcoal,data_magnetic,data_yellow,data_shadow_black,data_ingot,data_oxford,data_triple,data_super,data_billet,data_brown])\n"
   ]
  },
  {
   "cell_type": "code",
   "execution_count": null,
   "metadata": {},
   "outputs": [],
   "source": [
    "\"\"\" now we removed the values that is rare in the color column \"\"\""
   ]
  },
  {
   "cell_type": "code",
   "execution_count": 169,
   "metadata": {},
   "outputs": [
    {
     "data": {
      "text/html": [
       "<div>\n",
       "<style scoped>\n",
       "    .dataframe tbody tr th:only-of-type {\n",
       "        vertical-align: middle;\n",
       "    }\n",
       "\n",
       "    .dataframe tbody tr th {\n",
       "        vertical-align: top;\n",
       "    }\n",
       "\n",
       "    .dataframe thead th {\n",
       "        text-align: right;\n",
       "    }\n",
       "</style>\n",
       "<table border=\"1\" class=\"dataframe\">\n",
       "  <thead>\n",
       "    <tr style=\"text-align: right;\">\n",
       "      <th></th>\n",
       "      <th>price</th>\n",
       "      <th>brand</th>\n",
       "      <th>model</th>\n",
       "      <th>year</th>\n",
       "      <th>title_status</th>\n",
       "      <th>mileage</th>\n",
       "      <th>color</th>\n",
       "      <th>state</th>\n",
       "    </tr>\n",
       "  </thead>\n",
       "  <tbody>\n",
       "    <tr>\n",
       "      <th>88</th>\n",
       "      <td>4140</td>\n",
       "      <td>ford</td>\n",
       "      <td>door</td>\n",
       "      <td>2017</td>\n",
       "      <td>clean vehicle</td>\n",
       "      <td>17617.0</td>\n",
       "      <td>white</td>\n",
       "      <td>texas</td>\n",
       "    </tr>\n",
       "    <tr>\n",
       "      <th>90</th>\n",
       "      <td>9110</td>\n",
       "      <td>ford</td>\n",
       "      <td>door</td>\n",
       "      <td>2017</td>\n",
       "      <td>clean vehicle</td>\n",
       "      <td>110316.0</td>\n",
       "      <td>white</td>\n",
       "      <td>texas</td>\n",
       "    </tr>\n",
       "    <tr>\n",
       "      <th>93</th>\n",
       "      <td>9300</td>\n",
       "      <td>ford</td>\n",
       "      <td>door</td>\n",
       "      <td>2017</td>\n",
       "      <td>clean vehicle</td>\n",
       "      <td>120353.0</td>\n",
       "      <td>white</td>\n",
       "      <td>texas</td>\n",
       "    </tr>\n",
       "    <tr>\n",
       "      <th>97</th>\n",
       "      <td>34000</td>\n",
       "      <td>ford</td>\n",
       "      <td>door</td>\n",
       "      <td>2015</td>\n",
       "      <td>clean vehicle</td>\n",
       "      <td>42930.0</td>\n",
       "      <td>white</td>\n",
       "      <td>pennsylvania</td>\n",
       "    </tr>\n",
       "    <tr>\n",
       "      <th>125</th>\n",
       "      <td>10940</td>\n",
       "      <td>ford</td>\n",
       "      <td>door</td>\n",
       "      <td>2017</td>\n",
       "      <td>clean vehicle</td>\n",
       "      <td>84916.0</td>\n",
       "      <td>white</td>\n",
       "      <td>texas</td>\n",
       "    </tr>\n",
       "  </tbody>\n",
       "</table>\n",
       "</div>"
      ],
      "text/plain": [
       "     price brand model  year   title_status   mileage  color         state\n",
       "88    4140  ford  door  2017  clean vehicle   17617.0  white         texas\n",
       "90    9110  ford  door  2017  clean vehicle  110316.0  white         texas\n",
       "93    9300  ford  door  2017  clean vehicle  120353.0  white         texas\n",
       "97   34000  ford  door  2015  clean vehicle   42930.0  white  pennsylvania\n",
       "125  10940  ford  door  2017  clean vehicle   84916.0  white         texas"
      ]
     },
     "execution_count": 169,
     "metadata": {},
     "output_type": "execute_result"
    }
   ],
   "source": [
    "data.head()"
   ]
  },
  {
   "cell_type": "code",
   "execution_count": null,
   "metadata": {},
   "outputs": [],
   "source": [
    "\"\"\" I see the index column is messed , so im reindexing it \"\"\""
   ]
  },
  {
   "cell_type": "code",
   "execution_count": 178,
   "metadata": {},
   "outputs": [],
   "source": [
    "data=data.reset_index(drop=True)  #reindexing the dataset"
   ]
  },
  {
   "cell_type": "code",
   "execution_count": 179,
   "metadata": {},
   "outputs": [
    {
     "data": {
      "text/html": [
       "<div>\n",
       "<style scoped>\n",
       "    .dataframe tbody tr th:only-of-type {\n",
       "        vertical-align: middle;\n",
       "    }\n",
       "\n",
       "    .dataframe tbody tr th {\n",
       "        vertical-align: top;\n",
       "    }\n",
       "\n",
       "    .dataframe thead th {\n",
       "        text-align: right;\n",
       "    }\n",
       "</style>\n",
       "<table border=\"1\" class=\"dataframe\">\n",
       "  <thead>\n",
       "    <tr style=\"text-align: right;\">\n",
       "      <th></th>\n",
       "      <th>price</th>\n",
       "      <th>year</th>\n",
       "      <th>mileage</th>\n",
       "    </tr>\n",
       "  </thead>\n",
       "  <tbody>\n",
       "    <tr>\n",
       "      <th>count</th>\n",
       "      <td>1770.000000</td>\n",
       "      <td>1770.000000</td>\n",
       "      <td>1770.000000</td>\n",
       "    </tr>\n",
       "    <tr>\n",
       "      <th>mean</th>\n",
       "      <td>18716.502260</td>\n",
       "      <td>2016.748023</td>\n",
       "      <td>52225.572881</td>\n",
       "    </tr>\n",
       "    <tr>\n",
       "      <th>std</th>\n",
       "      <td>11876.603598</td>\n",
       "      <td>3.052362</td>\n",
       "      <td>50121.106303</td>\n",
       "    </tr>\n",
       "    <tr>\n",
       "      <th>min</th>\n",
       "      <td>0.000000</td>\n",
       "      <td>1984.000000</td>\n",
       "      <td>0.000000</td>\n",
       "    </tr>\n",
       "    <tr>\n",
       "      <th>25%</th>\n",
       "      <td>10500.000000</td>\n",
       "      <td>2016.000000</td>\n",
       "      <td>22037.250000</td>\n",
       "    </tr>\n",
       "    <tr>\n",
       "      <th>50%</th>\n",
       "      <td>16947.500000</td>\n",
       "      <td>2018.000000</td>\n",
       "      <td>36125.500000</td>\n",
       "    </tr>\n",
       "    <tr>\n",
       "      <th>75%</th>\n",
       "      <td>25500.000000</td>\n",
       "      <td>2019.000000</td>\n",
       "      <td>69469.500000</td>\n",
       "    </tr>\n",
       "    <tr>\n",
       "      <th>max</th>\n",
       "      <td>67000.000000</td>\n",
       "      <td>2020.000000</td>\n",
       "      <td>999999.000000</td>\n",
       "    </tr>\n",
       "  </tbody>\n",
       "</table>\n",
       "</div>"
      ],
      "text/plain": [
       "              price         year        mileage\n",
       "count   1770.000000  1770.000000    1770.000000\n",
       "mean   18716.502260  2016.748023   52225.572881\n",
       "std    11876.603598     3.052362   50121.106303\n",
       "min        0.000000  1984.000000       0.000000\n",
       "25%    10500.000000  2016.000000   22037.250000\n",
       "50%    16947.500000  2018.000000   36125.500000\n",
       "75%    25500.000000  2019.000000   69469.500000\n",
       "max    67000.000000  2020.000000  999999.000000"
      ]
     },
     "execution_count": 179,
     "metadata": {},
     "output_type": "execute_result"
    }
   ],
   "source": [
    "data.describe() #summary statistics"
   ]
  },
  {
   "cell_type": "code",
   "execution_count": 180,
   "metadata": {},
   "outputs": [
    {
     "data": {
      "text/plain": [
       "price           0\n",
       "brand           0\n",
       "model           0\n",
       "year            0\n",
       "title_status    0\n",
       "mileage         0\n",
       "color           0\n",
       "state           0\n",
       "dtype: int64"
      ]
     },
     "execution_count": 180,
     "metadata": {},
     "output_type": "execute_result"
    }
   ],
   "source": [
    "data.isnull().sum() #searching for null values"
   ]
  },
  {
   "cell_type": "code",
   "execution_count": 183,
   "metadata": {},
   "outputs": [],
   "source": [
    "data.to_csv('the USA cars cleaned.csv')  #saving the dataset after cleaning "
   ]
  },
  {
   "cell_type": "code",
   "execution_count": 184,
   "metadata": {},
   "outputs": [
    {
     "data": {
      "text/plain": [
       "<seaborn.axisgrid.PairGrid at 0x17278f4b390>"
      ]
     },
     "execution_count": 184,
     "metadata": {},
     "output_type": "execute_result"
    },
    {
     "data": {
      "image/png": "[encoded data removed]",
      "text/plain": [
       "<Figure size 540x540 with 12 Axes>"
      ]
     },
     "metadata": {
      "needs_background": "light"
     },
     "output_type": "display_data"
    }
   ],
   "source": [
    "sns.pairplot(data) #checking for linearity between the price (dependent), and other independent values "
   ]
  },
  {
   "cell_type": "code",
   "execution_count": 207,
   "metadata": {},
   "outputs": [
    {
     "data": {
      "text/plain": [
       "\" I don't see linear relationship between the price and other variables , I think linear regression isn't the right model \""
      ]
     },
     "execution_count": 207,
     "metadata": {},
     "output_type": "execute_result"
    }
   ],
   "source": [
    "\"\"\" I don't see linear relationship between the price and other variables , I think linear regression isn't the right model \"\"\""
   ]
  },
  {
   "cell_type": "code",
   "execution_count": 185,
   "metadata": {},
   "outputs": [
    {
     "name": "stdout",
     "output_type": "stream",
     "text": [
      "<class 'pandas.core.frame.DataFrame'>\n",
      "RangeIndex: 1770 entries, 0 to 1769\n",
      "Data columns (total 8 columns):\n",
      "price           1770 non-null int64\n",
      "brand           1770 non-null object\n",
      "model           1770 non-null object\n",
      "year            1770 non-null int64\n",
      "title_status    1770 non-null object\n",
      "mileage         1770 non-null float64\n",
      "color           1770 non-null object\n",
      "state           1770 non-null object\n",
      "dtypes: float64(1), int64(2), object(5)\n",
      "memory usage: 110.7+ KB\n"
     ]
    }
   ],
   "source": [
    "data.info()"
   ]
  },
  {
   "cell_type": "code",
   "execution_count": null,
   "metadata": {},
   "outputs": [],
   "source": [
    "\"\"\" I see about 5 object types in the dataset , We will solve that with the dummy_variables method\"\"\""
   ]
  },
  {
   "cell_type": "code",
   "execution_count": 187,
   "metadata": {},
   "outputs": [
    {
     "data": {
      "text/plain": [
       "'____________________________________________________________________________________________________________'"
      ]
     },
     "execution_count": 187,
     "metadata": {},
     "output_type": "execute_result"
    }
   ],
   "source": [
    "\"\"\"____________________________________________________________________________________________________________\"\"\""
   ]
  },
  {
   "cell_type": "markdown",
   "metadata": {},
   "source": [
    "## preprocessing "
   ]
  },
  {
   "cell_type": "code",
   "execution_count": 190,
   "metadata": {},
   "outputs": [],
   "source": [
    "data=pd.get_dummies(data,drop_first=True)  #dealing with categorical variables"
   ]
  },
  {
   "cell_type": "code",
   "execution_count": 196,
   "metadata": {},
   "outputs": [],
   "source": [
    "x=data.drop('price',axis=1)   #splittting the data into inputs & targets \n",
    "y=data.price"
   ]
  },
  {
   "cell_type": "code",
   "execution_count": 197,
   "metadata": {},
   "outputs": [
    {
     "name": "stderr",
     "output_type": "stream",
     "text": [
      "C:\\Users\\20115\\Anaconda3\\lib\\site-packages\\sklearn\\preprocessing\\data.py:645: DataConversionWarning: Data with input dtype uint8, int64, float64 were all converted to float64 by StandardScaler.\n",
      "  return self.partial_fit(X, y)\n",
      "C:\\Users\\20115\\Anaconda3\\lib\\site-packages\\sklearn\\base.py:464: DataConversionWarning: Data with input dtype uint8, int64, float64 were all converted to float64 by StandardScaler.\n",
      "  return self.fit(X, **fit_params).transform(X)\n"
     ]
    }
   ],
   "source": [
    "from sklearn.preprocessing import StandardScaler  #scaling the data \n",
    "scaler=StandardScaler()\n",
    "X=scaler.fit_transform(x)\n",
    "\n"
   ]
  },
  {
   "cell_type": "code",
   "execution_count": 208,
   "metadata": {},
   "outputs": [],
   "source": [
    "from sklearn.model_selection import train_test_split  #splitting the data into training and testing \n",
    "x_train,x_test,y_train,y_test=train_test_split(X,y,test_size=0.2)"
   ]
  },
  {
   "cell_type": "code",
   "execution_count": 199,
   "metadata": {},
   "outputs": [],
   "source": []
  },
  {
   "cell_type": "code",
   "execution_count": 200,
   "metadata": {},
   "outputs": [],
   "source": [
    "\n"
   ]
  },
  {
   "cell_type": "code",
   "execution_count": null,
   "metadata": {},
   "outputs": [],
   "source": [
    "\n"
   ]
  },
  {
   "cell_type": "code",
   "execution_count": 203,
   "metadata": {},
   "outputs": [],
   "source": []
  },
  {
   "cell_type": "code",
   "execution_count": null,
   "metadata": {},
   "outputs": [],
   "source": []
  },
  {
   "cell_type": "code",
   "execution_count": null,
   "metadata": {},
   "outputs": [],
   "source": []
  },
  {
   "cell_type": "code",
   "execution_count": null,
   "metadata": {},
   "outputs": [],
   "source": []
  },
  {
   "cell_type": "code",
   "execution_count": null,
   "metadata": {},
   "outputs": [],
   "source": []
  },
  {
   "cell_type": "code",
   "execution_count": null,
   "metadata": {},
   "outputs": [],
   "source": []
  },
  {
   "cell_type": "code",
   "execution_count": null,
   "metadata": {},
   "outputs": [],
   "source": []
  }
 ],
 "metadata": {
  "kernelspec": {
   "display_name": "Python 3",
   "language": "python",
   "name": "python3"
  },
  "language_info": {
   "codemirror_mode": {
    "name": "ipython",
    "version": 3
   },
   "file_extension": ".py",
   "mimetype": "text/x-python",
   "name": "python",
   "nbconvert_exporter": "python",
   "pygments_lexer": "ipython3",
   "version": "3.7.3"
  }
 },
 "nbformat": 4,
 "nbformat_minor": 2
}
